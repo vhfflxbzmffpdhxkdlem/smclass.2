{
 "cells": [
  {
   "cell_type": "code",
   "execution_count": null,
   "metadata": {},
   "outputs": [],
   "source": [
    "import pandas as pd\n",
    "df = pd.read_excel('score.xlsx',index_col='지원번호')\n",
    "\n",
    "# 학교 구로고 -> 가산고, 디지털고 -> 단지고 로 변경하시오.\n",
    "df['학교'].replace({'구로고':'가산고','디지털고':'단지고'})\n",
    "# sw특기 소문자로 변경하시오.\n",
    "df['SW특기'] = df['SW특기'].str.lower()\n",
    "# 4번 SW특기 -> Django\n",
    "# 5번 SW특기 -> python\n",
    "df.loc[['4번','5번'],'SW특기'] = ['Django','python']\n",
    "# 합계컬럼을 추가하시오.\n",
    "df['합계'] = df['국어']+df['영어']+df['수학']+df['과학']+df['사회']\n",
    "# 결과컬럼을 추가해서 400점 이상은 pass, 아니면 fail 출력하시오.\n",
    "df['결과'] = 'Fail'\n",
    "df.loc[df['합계']>400,df['결과']] = 'Pass'\n",
    "df\n"
   ]
  },
  {
   "cell_type": "code",
   "execution_count": null,
   "metadata": {},
   "outputs": [],
   "source": [
    "### 문자열 = 문자열+문자열\n",
    "df['학교'] = df['학교']+'등학교'\n",
    "df"
   ]
  },
  {
   "cell_type": "code",
   "execution_count": 15,
   "metadata": {},
   "outputs": [
    {
     "data": {
      "text/plain": [
       "'197cm'"
      ]
     },
     "execution_count": 15,
     "metadata": {},
     "output_type": "execute_result"
    }
   ],
   "source": [
    "str(df.loc['1번','키'])+'cm'"
   ]
  },
  {
   "cell_type": "code",
   "execution_count": 19,
   "metadata": {},
   "outputs": [
    {
     "data": {
      "text/plain": [
       "'[197, 184, 168, 187, 188, 202, 188, 190]'"
      ]
     },
     "execution_count": 19,
     "metadata": {},
     "output_type": "execute_result"
    }
   ],
   "source": [
    "str(list(df['키']))"
   ]
  },
  {
   "cell_type": "code",
   "execution_count": 16,
   "metadata": {},
   "outputs": [
    {
     "data": {
      "text/plain": [
       "'지원번호\\n1번    197\\n2번    184\\n3번    168\\n4번    187\\n5번    188\\n6번    202\\n7번    188\\n8반    190\\nName: 키, dtype: int64cm'"
      ]
     },
     "execution_count": 16,
     "metadata": {},
     "output_type": "execute_result"
    }
   ],
   "source": [
    "str(df['키'])+'cm'"
   ]
  }
 ],
 "metadata": {
  "kernelspec": {
   "display_name": "Python 3",
   "language": "python",
   "name": "python3"
  },
  "language_info": {
   "codemirror_mode": {
    "name": "ipython",
    "version": 3
   },
   "file_extension": ".py",
   "mimetype": "text/x-python",
   "name": "python",
   "nbconvert_exporter": "python",
   "pygments_lexer": "ipython3",
   "version": "3.12.6"
  }
 },
 "nbformat": 4,
 "nbformat_minor": 2
}
