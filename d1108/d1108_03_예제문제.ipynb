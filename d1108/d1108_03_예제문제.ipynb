{
 "cells": [
  {
   "cell_type": "code",
   "execution_count": 39,
   "metadata": {},
   "outputs": [],
   "source": [
    "import pandas as pd\n",
    "import numpy as np"
   ]
  },
  {
   "cell_type": "code",
   "execution_count": 40,
   "metadata": {},
   "outputs": [],
   "source": [
    "df1 = pd.read_csv('2014년졸음운전교통사고.csv',encoding='euc-kr')\n",
    "df2 = pd.read_csv('2015년졸음운전교통사고.csv',encoding='euc-kr')\n",
    "df3 = pd.read_csv('2016년졸음운전교통사고.csv',encoding='euc-kr')"
   ]
  },
  {
   "cell_type": "code",
   "execution_count": 35,
   "metadata": {},
   "outputs": [],
   "source": [
    "df1['가중치1']=(df1['사망(명)']+df1['부상(명)'])*1.1\n",
    "df1['가중치2']=(df1['사망(명)']+df1['부상(명)'])*1.2\n",
    "df2['가중치1']=(df2['사망(명)']+df2['부상(명)'])*1.1\n",
    "df2['가중치2']=(df2['사망(명)']+df2['부상(명)'])*1.5\n",
    "df3['가중치1']=(df3['사망(명)']+df3['부상(명)'])*1.1\n",
    "df3['가중치2']=(df3['사망(명)']+df3['부상(명)'])*1.3\n"
   ]
  },
  {
   "cell_type": "code",
   "execution_count": null,
   "metadata": {},
   "outputs": [],
   "source": [
    "## 3개\n",
    "df = pd.concat([df1,df2,df3])"
   ]
  },
  {
   "cell_type": "code",
   "execution_count": null,
   "metadata": {},
   "outputs": [],
   "source": [
    "# 가중치1 컬럼을 추가\n",
    "df['가중치1']=(df['사망(명)']+df['부상(명)'])*1.1\n",
    "\n",
    "# 가중치 2 컬럼으 추가\n",
    "df['가중치2'] = 1\n",
    "\n",
    "# 조건식 2014년에 해당되는 조건식을 구성\n",
    "filt1 = df['구분'].str.slice(start=0,stop=4)=='2014'\n",
    "\n",
    "# 2015에 해당되는 가중치2 계산해서 데이터 수정\n",
    "df.loc[filt1,'가중치2'] = ((df.loc['사망(명)']+df.loc['부상(명)']))*1.2\n",
    "\n",
    "# 조건식 2015년에 해당되는 조건식을 구성\n",
    "filt2 = df['구분'].str.slice(start=0,stop=4)=='2015'\n",
    "\n",
    "# 2015에 해당되는 가중치2 계산해서 데이터 수정\n",
    "df.loc[filt2,'가중치2'] = ((df.loc['사망(명)']+df.loc['부상(명)']))*1.5\n",
    "\n",
    "# 조건식 2016년에 해당되는 조건식을 구성\n",
    "filt3 = df['구분'].str.slice(start=0,stop=4)=='2016'\n",
    "\n",
    "# 2016에 해당되는 가중치2 계산해서 데이터 수정\n",
    "df.loc[filt3,'가중치2'] = ((df.loc['사망(명)']+df.loc['부상(명)']))*1.3"
   ]
  },
  {
   "cell_type": "code",
   "execution_count": null,
   "metadata": {},
   "outputs": [],
   "source": [
    "df"
   ]
  },
  {
   "cell_type": "code",
   "execution_count": null,
   "metadata": {},
   "outputs": [],
   "source": [
    "df.loc[0,'가중치2']"
   ]
  },
  {
   "cell_type": "code",
   "execution_count": 61,
   "metadata": {},
   "outputs": [],
   "source": [
    "df.loc[filt1,'가중치2'] = (df.loc[filt1,'사망(명)']+df.loc[filt1,'부상(명)'])*1.2"
   ]
  }
 ],
 "metadata": {
  "kernelspec": {
   "display_name": "Python 3",
   "language": "python",
   "name": "python3"
  },
  "language_info": {
   "codemirror_mode": {
    "name": "ipython",
    "version": 3
   },
   "file_extension": ".py",
   "mimetype": "text/x-python",
   "name": "python",
   "nbconvert_exporter": "python",
   "pygments_lexer": "ipython3",
   "version": "3.12.6"
  }
 },
 "nbformat": 4,
 "nbformat_minor": 2
}
