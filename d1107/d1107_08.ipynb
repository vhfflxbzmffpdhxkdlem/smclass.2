{
 "cells": [
  {
   "cell_type": "code",
   "execution_count": null,
   "metadata": {},
   "outputs": [],
   "source": [
    "import pandas as pd\n",
    "df = pd.read_excel('score.xlsx',index_col='지원번호')\n",
    "df"
   ]
  },
  {
   "cell_type": "code",
   "execution_count": null,
   "metadata": {},
   "outputs": [],
   "source": [
    "# 데이터 선택 - row : index 값으로 가져옴\n",
    "df.index\n",
    "# df.loc[index이름이 들어감]\n",
    "df.loc['1번']\n",
    "df.loc['2번']\n",
    "df.iloc[0]  # index번호로 가져옴."
   ]
  },
  {
   "cell_type": "markdown",
   "metadata": {},
   "source": [
    "데이터 선택 - iloc(row의 값을 가져옴)"
   ]
  },
  {
   "cell_type": "code",
   "execution_count": null,
   "metadata": {},
   "outputs": [],
   "source": [
    "df = pd.read_excel('score.xlsx')\n",
    "df"
   ]
  },
  {
   "cell_type": "code",
   "execution_count": null,
   "metadata": {},
   "outputs": [],
   "source": [
    "# index 이름으로 검색해더 그것에 해당되는 컬럼 가져오기\n",
    "# index 1번 국어점수 출력\n",
    "df.loc['1번','국어']\n",
    "df.loc[['1번','2번'],'국어']  # 1번,2번 학생의 국어점수 출력\n",
    "df.loc[['1번','2번','5번'],['영어','수학']]\n",
    "df.loc['2번':'6번','국어':'사회'] # 슬라이싱"
   ]
  },
  {
   "cell_type": "markdown",
   "metadata": {},
   "source": [
    "### 데이터 선택 - loc (row값을 가져옴)"
   ]
  },
  {
   "cell_type": "code",
   "execution_count": null,
   "metadata": {},
   "outputs": [],
   "source": [
    "### index 지정하지 않으면, index 번호가 부여되어 있음\n",
    "df.loc[0]\n",
    "df.loc[3]"
   ]
  }
 ],
 "metadata": {
  "kernelspec": {
   "display_name": "Python 3",
   "language": "python",
   "name": "python3"
  },
  "language_info": {
   "codemirror_mode": {
    "name": "ipython",
    "version": 3
   },
   "file_extension": ".py",
   "mimetype": "text/x-python",
   "name": "python",
   "nbconvert_exporter": "python",
   "pygments_lexer": "ipython3",
   "version": "3.12.6"
  }
 },
 "nbformat": 4,
 "nbformat_minor": 2
}
