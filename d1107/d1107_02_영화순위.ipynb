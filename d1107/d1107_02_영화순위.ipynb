{
 "cells": [
  {
   "cell_type": "code",
   "execution_count": 2,
   "metadata": {},
   "outputs": [],
   "source": [
    "from selenium import webdriver\n",
    "from selenium.webdriver.common.by import By\n",
    "from selenium.webdriver.common.keys import Keys\n",
    "from selenium.webdriver.support.ui import WebDriverWait\n",
    "from selenium.webdriver.support import expected_conditions as EC\n",
    "from selenium.webdriver.chrome.options import Options\n",
    "import pyautogui\n",
    "import time\n",
    "import requests\n",
    "from bs4 import BeautifulSoup\n",
    "import random\n",
    "import csv"
   ]
  },
  {
   "cell_type": "code",
   "execution_count": null,
   "metadata": {},
   "outputs": [],
   "source": [
    "# 웹스크래핑 시작\n",
    "s_list = []\n",
    "for syear in range(2020,2024):\n",
    "  with open(f'd1107/screen{syear}.html','r',encoding='utf-8') as f:\n",
    "    soup = BeautifulSoup(f,'lxml')\n",
    "    print(f\"{syear}년도 ----------------------\")\n",
    "    # 기준점\n",
    "    data = soup.select_one(\"#mor_history_id_0 > div > div.flipsnap_view > div > div:nth-child(1) > c-flicking-item > c-layout > div > c-list-doc > ul\")\n",
    "    screens = data.select(\"li\")\n",
    "    for i,screen in enumerate(screens):\n",
    "      print(f\"{i+1}. ------------------\")\n",
    "      s_img = screen.select_one(\".wrap_thumb img\")['src']\n",
    "      title = screen.select_one(\".tit-g.clamp-g\").text.strip()\n",
    "      number = screen.select_one(\".conts-desc.clamp-g\").text.strip()[3:-2].replace(\",\",\"\")\n",
    "      sdate = screen.select_one(\".conts-subdesc.clamp-g\").text.strip()[:-1]\n",
    "      # 정보 40개 저장됨.\n",
    "      s_list.append([title,number,sdate])\n",
    "      # 파일 저장\n",
    "      # 파일저장을 하지 않고, s_list 모든 데이터를 담아서,\n",
    "      # 뒤어서 모두 저장\n",
    "\n",
    "print(\"리스트 파일 작업완료\")"
   ]
  },
  {
   "cell_type": "code",
   "execution_count": null,
   "metadata": {},
   "outputs": [],
   "source": [
    "import pandas as pd\n",
    "df = pd.read_csv('screens.scv',index_col='제목')\n",
    "df.describe()"
   ]
  },
  {
   "cell_type": "code",
   "execution_count": null,
   "metadata": {},
   "outputs": [],
   "source": [
    "df['관객수'].nlargest()\n",
    "df['관객수'].nsmallest()\n",
    "df.sort_index(ascending=False)\n"
   ]
  },
  {
   "cell_type": "code",
   "execution_count": null,
   "metadata": {},
   "outputs": [],
   "source": [
    "# 파일저장\n",
    "topTitle = ['제목','관객수','날짜']\n",
    "with open('screens.csv','a',encoding=\"utf-8\") as f:\n",
    "  f.write('제목,관객수,날짜\\n')  # 1번만 글 저장\n",
    "  for s in s_list:\n",
    "    f.write(','.join(s)+'\\n')\n",
    "\n",
    "f.close()\n",
    "\n",
    "print(\"프로그램 완료\")"
   ]
  },
  {
   "cell_type": "code",
   "execution_count": null,
   "metadata": {},
   "outputs": [],
   "source": [
    "# 기준점\n",
    "data = soup.select_one(\"#mor_history_id_0 > div > div.flipsnap_view > div > div:nth-child(1) > c-flicking-item > c-layout > div > c-list-doc > ul\")\n",
    "screens = data.select(\"li\")\n",
    "for i,screen in enumerate(screens):\n",
    "  print(f\"{i+1}. ----------------\")\n",
    "  title = screen.select_one(\"div.item-title > c-title > strong\").text.strip()\n",
    "  s_img = screen.select_one(\"div.wrap_thumb > a > img\")['src']\n",
    "  number = int(screen.select_one(\"div.item-contents > a\").text.strip()[3,-2].replace(\",\",\"\"))\n",
    "  sdate = screen.select_one(\"span.conts-subdesc clamp-g\").text.strip()[:-1]\n",
    "  s_list = [title,number,sdate]\n",
    "  print(s_list)\n",
    "  # print(\"제목\",title)\n",
    "  # print(\"이미지\",s_img)\n",
    "  # print(\"관객수\",number)\n",
    "  # print(\"날짜\",sdate)"
   ]
  }
 ],
 "metadata": {
  "kernelspec": {
   "display_name": "Python 3",
   "language": "python",
   "name": "python3"
  },
  "language_info": {
   "codemirror_mode": {
    "name": "ipython",
    "version": 3
   },
   "file_extension": ".py",
   "mimetype": "text/x-python",
   "name": "python",
   "nbconvert_exporter": "python",
   "pygments_lexer": "ipython3",
   "version": "3.12.6"
  }
 },
 "nbformat": 4,
 "nbformat_minor": 2
}
