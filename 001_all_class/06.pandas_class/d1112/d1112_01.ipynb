{
 "cells": [
  {
   "cell_type": "code",
   "execution_count": 1,
   "metadata": {},
   "outputs": [],
   "source": [
    "import pandas as pd\n",
    "import numpy as np\n",
    "df = pd.read_excel(\"score.xlsx\",index_col='지원번호')"
   ]
  },
  {
   "cell_type": "code",
   "execution_count": null,
   "metadata": {},
   "outputs": [],
   "source": [
    "df['요일'] = 0"
   ]
  },
  {
   "cell_type": "code",
   "execution_count": null,
   "metadata": {},
   "outputs": [],
   "source": [
    "### 랜덤으로 0~6 사이의 랜덤숫자를 입력\n",
    "import random\n",
    "df.shape\n",
    "# 랜덤으로 0-6 까지 숫자 입력\n",
    "for i in range(8):\n",
    "  df.iloc[i,9] = random.randint(0,6)"
   ]
  },
  {
   "cell_type": "code",
   "execution_count": null,
   "metadata": {},
   "outputs": [],
   "source": [
    "### 특정셀 부분을 수정\n",
    "df.loc['1번','요일'] = 5\n",
    "df.iloc[1,9] = 5"
   ]
  },
  {
   "cell_type": "code",
   "execution_count": null,
   "metadata": {},
   "outputs": [],
   "source": [
    "## 컬럼 전체를 수정\n",
    "df['요일'] = 5"
   ]
  },
  {
   "cell_type": "code",
   "execution_count": 11,
   "metadata": {},
   "outputs": [],
   "source": [
    "def func(x):\n",
    "  if x == 0 : return \"일요일\"\n",
    "  elif x == 1 : return \"월요일\"\n",
    "  elif x == 2 : return \"화요일\"\n",
    "  elif x == 3 : return \"수요일\"\n",
    "  elif x == 4 : return \"목요일\"\n",
    "  elif x == 5 : return \"금요일\"\n",
    "  elif x == 6 : return \"토요일\"\n"
   ]
  },
  {
   "cell_type": "code",
   "execution_count": 14,
   "metadata": {},
   "outputs": [],
   "source": [
    "df['요일'] = df['요일'].apply(func)"
   ]
  },
  {
   "cell_type": "code",
   "execution_count": 16,
   "metadata": {},
   "outputs": [],
   "source": [
    "### 결과컬럼 생성\n",
    "df['결과'] = '불합격'"
   ]
  },
  {
   "cell_type": "code",
   "execution_count": 19,
   "metadata": {},
   "outputs": [],
   "source": [
    "## 국어점수가 60점 이상이면 합격ㄱ으로 수정하시오.\n",
    "filt = df['국어'] >= 60\n",
    "df.loc[filt,'결과'] = '합격'"
   ]
  },
  {
   "cell_type": "code",
   "execution_count": null,
   "metadata": {},
   "outputs": [],
   "source": [
    "## 학교+등학교\n",
    "df['학교'] = df['학교'] + '등학교'\n",
    "\n",
    "## 키+'cm'\n",
    "## astype() 타입변경후 문자열 + 문자열\n",
    "df['키'] = df['키'].astype(str)+'cm'"
   ]
  },
  {
   "cell_type": "code",
   "execution_count": null,
   "metadata": {},
   "outputs": [],
   "source": [
    "df.groupby('학교')['이름'].sum()"
   ]
  },
  {
   "cell_type": "markdown",
   "metadata": {},
   "source": [
    "* 컬럼이 숫자가 아니면 실행이 안됨\n",
    "* mean(),max(),min(),std()"
   ]
  },
  {
   "cell_type": "code",
   "execution_count": null,
   "metadata": {},
   "outputs": [],
   "source": [
    "# df.groupby('학교')['이름'].count()\n",
    "df.groupby('학교')['국어'].mean()\n",
    "df.groupby('학교')['국어'].count()\n",
    "df.groupby('학교')['국어'].sum().sort_values(ascending=False)"
   ]
  },
  {
   "cell_type": "code",
   "execution_count": 46,
   "metadata": {},
   "outputs": [],
   "source": [
    "df['학년'] = [3,3,2,1,1,3,2,2]"
   ]
  },
  {
   "cell_type": "code",
   "execution_count": null,
   "metadata": {},
   "outputs": [],
   "source": [
    "df.groupby(['학교','학년'])['국어'].agg(['mean','min','max','sum'])"
   ]
  },
  {
   "cell_type": "code",
   "execution_count": 49,
   "metadata": {},
   "outputs": [],
   "source": [
    "df = pd.read_csv('chipotle.tsv',sep='\\t')"
   ]
  },
  {
   "cell_type": "code",
   "execution_count": 51,
   "metadata": {},
   "outputs": [
    {
     "data": {
      "text/plain": [
       "(4622, 5)"
      ]
     },
     "execution_count": 51,
     "metadata": {},
     "output_type": "execute_result"
    }
   ],
   "source": [
    "df.shape"
   ]
  },
  {
   "cell_type": "code",
   "execution_count": null,
   "metadata": {},
   "outputs": [],
   "source": [
    "df.info()"
   ]
  },
  {
   "cell_type": "code",
   "execution_count": 53,
   "metadata": {},
   "outputs": [],
   "source": [
    "df = pd.read_csv('drinks.csv')"
   ]
  },
  {
   "cell_type": "code",
   "execution_count": null,
   "metadata": {},
   "outputs": [],
   "source": [
    "df.shape"
   ]
  },
  {
   "cell_type": "code",
   "execution_count": null,
   "metadata": {},
   "outputs": [],
   "source": [
    "df.info()"
   ]
  },
  {
   "cell_type": "code",
   "execution_count": null,
   "metadata": {},
   "outputs": [],
   "source": [
    "### 모든 숭의 총량을 출려하시오.\n",
    "### total_servings 컬럼을 구하시오. beer+spirit+wine\n",
    "#  / 전체 알코올 도수를 확인\n",
    "df['total_servings'] = df['beer_servings']+df['spirit_servings']+df['wine_servings']\n",
    "### "
   ]
  },
  {
   "cell_type": "code",
   "execution_count": 64,
   "metadata": {},
   "outputs": [],
   "source": [
    "df['total_servings'] = df['beer_servings']+df['spirit_servings']+df['wine_servings']"
   ]
  },
  {
   "cell_type": "code",
   "execution_count": null,
   "metadata": {},
   "outputs": [],
   "source": [
    "df['continent'].unique()\n",
    "filt = df['continent'].isnull()\n",
    "df.loc[filt,'total_servings'].sum()"
   ]
  },
  {
   "cell_type": "code",
   "execution_count": null,
   "metadata": {},
   "outputs": [],
   "source": [
    "## continent : 대률 Nan 값을 OT로 변경 \n",
    "df['continent'].fillna('OT',inplace=True)"
   ]
  },
  {
   "cell_type": "code",
   "execution_count": null,
   "metadata": {},
   "outputs": [],
   "source": [
    "### 대륙별 total_servings을 구하시오.\n",
    "df.groupby('continent')['total_servings'].sum().sort_values(ascending=False)"
   ]
  },
  {
   "cell_type": "code",
   "execution_count": null,
   "metadata": {},
   "outputs": [],
   "source": [
    "df.columns"
   ]
  },
  {
   "cell_type": "code",
   "execution_count": null,
   "metadata": {},
   "outputs": [],
   "source": [
    "df['alcohol_rate'] = df['total_litres_of_pure_alcohol']/df['total_servings']\n",
    "df[['country','alcohol_rate']].sort_values('alcohol_rate').head(5)\n",
    "df['alcohol_rate'].fillna(0,inplace=True)\n"
   ]
  },
  {
   "cell_type": "code",
   "execution_count": null,
   "metadata": {},
   "outputs": [],
   "source": [
    "df[['country','alcohol_rate']].sort_values('alcohol_rate',ascending=False).head()"
   ]
  },
  {
   "cell_type": "code",
   "execution_count": null,
   "metadata": {},
   "outputs": [],
   "source": [
    "### kor 포함되어 있는 나라를 출력하시오.\n",
    "filt = df['country'].str.lower().str.contains('kor')\n",
    "df[filt][['alcohol_rate','country']]"
   ]
  },
  {
   "cell_type": "code",
   "execution_count": null,
   "metadata": {},
   "outputs": [],
   "source": [
    "### 술 소비량 대비 알콜 비율이 어느 정도 되는지 출력하시오.\n",
    "## 알코올 비율을 계산해서 alcohol_rate 컬럼을 추가\n",
    "## 'total_litres_of_pure_alcohol' 알코올 비율을 total_servings 으로 나눈것\n",
    "## 술소비량 대비 알콜 비율이 높은 나라별 20개를 출력하시오.\n",
    "df['alcohol_rate'] = df['total_litres_of_pure_alcohol']/df['total_servings']\n",
    "df.sort_values('alcohol_rate').head(5)\n",
    "## 대육별 알콜비율도 계산해서 출력하시오.\n",
    "df['alcohol_rate'].fillna(0,inplace=True)\n",
    "df.groupby('continent')['alcohol_rate'].sum().sort_values(ascending=False)"
   ]
  }
 ],
 "metadata": {
  "kernelspec": {
   "display_name": "Python 3",
   "language": "python",
   "name": "python3"
  },
  "language_info": {
   "codemirror_mode": {
    "name": "ipython",
    "version": 3
   },
   "file_extension": ".py",
   "mimetype": "text/x-python",
   "name": "python",
   "nbconvert_exporter": "python",
   "pygments_lexer": "ipython3",
   "version": "3.12.6"
  }
 },
 "nbformat": 4,
 "nbformat_minor": 2
}
