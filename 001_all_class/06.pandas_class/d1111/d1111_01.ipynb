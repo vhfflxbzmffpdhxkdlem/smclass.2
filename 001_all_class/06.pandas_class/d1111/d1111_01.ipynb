{
 "cells": [
  {
   "cell_type": "code",
   "execution_count": 59,
   "metadata": {},
   "outputs": [],
   "source": [
    "import pandas as pd\n",
    "import numpy as np\n",
    "df = pd.read_excel('score.xlsx',index_col='지원번호')"
   ]
  },
  {
   "cell_type": "code",
   "execution_count": null,
   "metadata": {},
   "outputs": [],
   "source": [
    "## 키 185  이상만 출력해보세요\n",
    "filt = df['키'] >= 185\n",
    "df[filt]\n",
    "df[~filt]"
   ]
  },
  {
   "cell_type": "code",
   "execution_count": null,
   "metadata": {},
   "outputs": [],
   "source": [
    "## 키가 185 이상이면서 학교가 구로고인 행생을 출력하시오.\n",
    "filt = (df['키'] >= 185) & (df['학교'] == '구로고')\n",
    "df[filt]"
   ]
  },
  {
   "cell_type": "code",
   "execution_count": null,
   "metadata": {},
   "outputs": [],
   "source": [
    "## 키가 180이상이거나,국어점수가 60이상인 학생을 출력하시오\n",
    "filt = (df['키'] >=180) | (df['국어'] >=60)\n",
    "df[filt]"
   ]
  },
  {
   "cell_type": "code",
   "execution_count": null,
   "metadata": {},
   "outputs": [],
   "source": [
    "## SW특기가 python,java 학생을 출력하시오.\n",
    "langs = ['python','java']\n",
    "# filt =  df['SW특기'].isin(langs) # isin(리스트 타입)\n",
    "filt = df['SW특기'].str.lower().isin(langs)  # 소문자로 변활후 검색\n",
    "df[filt]\n",
    "\n"
   ]
  },
  {
   "cell_type": "code",
   "execution_count": null,
   "metadata": {},
   "outputs": [],
   "source": [
    "## java가 포함되어 있는 학생을 출력하시오.\n",
    "# contanins\n",
    "# 같은 글자만 비교해서 출력\n",
    "filt = df['SW특기'].str.lower().str.contains('java',na=False)  # na = filt : NaN테이터 처리\n",
    "# 기존데이터를 소문자 변활후 비교\n",
    "filt = df['SW특기'].str.contains('Java',na=False)  # na = filt : NaN테이터 처리\n",
    "df[filt]"
   ]
  },
  {
   "cell_type": "markdown",
   "metadata": {},
   "source": [
    "* sort_values # 컬럼으로 정렬\n",
    "* sort_index : index로 정렬"
   ]
  },
  {
   "cell_type": "code",
   "execution_count": null,
   "metadata": {},
   "outputs": [],
   "source": [
    "## 키 컬럼을 순차정렬하시오.\n",
    "# df.sort_nalues(컬럼이 들어옴.)\n",
    "df.sort_values('키')\n",
    "df.sort_values('국어')\n",
    "df.sort_values('영어',ascending=False)  # 영어기준 역순정렬"
   ]
  },
  {
   "cell_type": "code",
   "execution_count": null,
   "metadata": {},
   "outputs": [],
   "source": [
    "# index 정렬\n",
    "df.sort_index()                  # 순차정렬\n",
    "df.sort_index(ascending=False)   # 역순정렬"
   ]
  },
  {
   "cell_type": "code",
   "execution_count": null,
   "metadata": {},
   "outputs": [],
   "source": [
    "## 컬럼전체를 변경 - 해당되는 것을 찾아서 변경\n",
    "df['학교'].replace({'구로고':'가산고'},inplace=True)\n",
    "df"
   ]
  },
  {
   "cell_type": "markdown",
   "metadata": {},
   "source": [
    "컬럼값 변경 : 컬럼에 값을 입력하면 값이 변경됨."
   ]
  },
  {
   "cell_type": "code",
   "execution_count": null,
   "metadata": {},
   "outputs": [],
   "source": [
    "# 컬럼자체를 변경\n",
    "# 해당 컬럼 값을 입력하면 변경됨.\n",
    "df['SW특기'].str.lower()\n",
    "df['SW특기'] = df['SW특기'].str.lower()\n",
    "df"
   ]
  },
  {
   "cell_type": "code",
   "execution_count": null,
   "metadata": {},
   "outputs": [],
   "source": [
    "df['키'] = 1\n",
    "df"
   ]
  },
  {
   "cell_type": "code",
   "execution_count": null,
   "metadata": {},
   "outputs": [],
   "source": [
    "df = pd.read_excel('score.xlsx',index_col='지원번호')\n",
    "df"
   ]
  },
  {
   "cell_type": "code",
   "execution_count": null,
   "metadata": {},
   "outputs": [],
   "source": [
    "# 컬럼값 변경 : 해당컬럼에 값을 입력하면 됨.\n",
    "# 단 타입이 같아야 함.\n",
    "df['학교'] = df['학교']+'등학교'\n",
    "\n",
    "# 같은 타입만 더하기 가능\n",
    "# df['키'] = 'cm'  # 에러\n",
    "# df['키'].astype(str) + 'cm' # 가능"
   ]
  },
  {
   "cell_type": "code",
   "execution_count": null,
   "metadata": {},
   "outputs": [],
   "source": [
    "# 구로고 학생만 국어점수 50 변경하시오.\n",
    "filt = (df['학교'] =='구로고')\n",
    "# 컬럼으로 비교하고 값의 변경은 row값을 찾아서 변경해야 함\n",
    "df.loc[filt,'국어'] = 50"
   ]
  },
  {
   "cell_type": "code",
   "execution_count": null,
   "metadata": {},
   "outputs": [],
   "source": [
    "# 컬럼 추가\n",
    "# 없는 컬럼명을 입력하면 컬럼이 추가 됨.\n",
    "df['총합'] = df['국어']+df['영어']+df['수학']+df['과학']+df['사회']\n",
    "df.columns"
   ]
  },
  {
   "cell_type": "code",
   "execution_count": 126,
   "metadata": {},
   "outputs": [
    {
     "data": {
      "text/plain": [
       "str"
      ]
     },
     "execution_count": 126,
     "metadata": {},
     "output_type": "execute_result"
    }
   ],
   "source": [
    "c_list = list(df.columns)\n",
    "type(c_list[0:7])  # list 타입\n",
    "type(c_list[-1])   # str 타입"
   ]
  },
  {
   "cell_type": "code",
   "execution_count": null,
   "metadata": {},
   "outputs": [],
   "source": [
    "\n",
    "# 컬럼순서 변경 : 컬럼의 타입을 일치한 후 더하기를 해주면 됨.\n",
    "# 리스트 + 리그스(문자열) + 리스트(문자열)\n",
    "df = df[c_list[0:7]+[c_list[-1]]+[c_list[8]]]\n",
    "df"
   ]
  },
  {
   "cell_type": "code",
   "execution_count": null,
   "metadata": {},
   "outputs": [],
   "source": [
    "# 컬럼 전체 변경\n",
    "# df['컬럼'] = 값"
   ]
  },
  {
   "cell_type": "code",
   "execution_count": null,
   "metadata": {},
   "outputs": [],
   "source": [
    "# 평균컬럼을 넣어서, 이름 바로 뒤로 위치를 변경하시오.\n",
    "# 없는 컬럼을 입력하면 추가, 있는 컬럼에 값을 입력하면 변경\n",
    "df['평균'] = df['총합']/5\n",
    "df\n"
   ]
  },
  {
   "cell_type": "code",
   "execution_count": null,
   "metadata": {},
   "outputs": [],
   "source": [
    "c_list = list(df.columns)\n",
    "df = df[[c_list[0]]+[c_list[-1]]+c_list[1:9]]\n",
    "df"
   ]
  },
  {
   "cell_type": "code",
   "execution_count": null,
   "metadata": {},
   "outputs": [],
   "source": [
    "# 결과컬럼을 추가해서 평균 80점이상 , 합격 ,불학격 출력하시오.\n",
    "# 결과컬럼 추가\n",
    "# 필터적용\n",
    "# 합격,불합격 입력 조건에 맞는 값을 결과커럼에 입력을 하려면,df.loc\n",
    "df['결과'] = '불합격'\n",
    "filt = df['평균']>=80\n",
    "df['결과'] = df.loc[filt]"
   ]
  },
  {
   "cell_type": "code",
   "execution_count": null,
   "metadata": {},
   "outputs": [],
   "source": [
    "## 컬럼 삭제 : drop (columns), 적용 inplace = True\n",
    "# df.drop(columns=['평균'],inplace=True)  # 1개 컬럼 삭제\n",
    "# df.drop(columns=['결과','총합'],inplace=True)  # 2개 컬럼 삭제"
   ]
  },
  {
   "cell_type": "code",
   "execution_count": null,
   "metadata": {},
   "outputs": [],
   "source": [
    "## index 삭제 : drop (index), 적용 inplace = True\n",
    "# df.drop(index=['1번']) # index를 가지고 삭제\n",
    "df.drop(index=['1번','3번']) # index를 가지고 삭제\n",
    "\n",
    "# 수학점수가 80점 이하 삭제\n",
    "filt = df['수학']<80\n",
    "# df.drop(index=df[filt].index)"
   ]
  },
  {
   "cell_type": "code",
   "execution_count": null,
   "metadata": {},
   "outputs": [],
   "source": [
    "## 컬럼에 해당되는 값을 다른 값으로 변경 : df.replace\n",
    "## 컬럼값을 변겨 : df[컬럼]\n",
    "## 컬럼추가 : df[컬럼]\n",
    "## 컬럼삭제 : df.drop(columns),df.drop(index)\n",
    "## 컬럼의 특정값을 변경 : df.loc(조건,컬럼) = 값\n",
    "\n",
    "# row 추가 : 없는 index값을 입력하면 추가\n",
    "# row 수정 : 있는 index값을 입력하면 수정\n",
    "# 특정 컴럼의 값을 수정 df.loc[조건,컬럼] = 값\n",
    "# row 삭제 : df.drop(index=[인덱스번호])"
   ]
  },
  {
   "cell_type": "code",
   "execution_count": null,
   "metadata": {},
   "outputs": [],
   "source": [
    "# row 열을 추가\n",
    "# 없는 index의 값을 가지고 입력 #df.index\n",
    "df.loc['9번'] = ['홍길동','디지털고',191,100,89,87,67,90,'Django']"
   ]
  },
  {
   "cell_type": "code",
   "execution_count": null,
   "metadata": {},
   "outputs": [],
   "source": [
    "# row열 수정\n",
    "# 있는 index에 값을 입력하면 수정\n",
    "df.loc['1번','국어'] = 80\n",
    "df.loc['1번',['영어','수학']] = [100,99]\n",
    "df"
   ]
  },
  {
   "cell_type": "code",
   "execution_count": null,
   "metadata": {},
   "outputs": [],
   "source": [
    "## index 삭제 : drop (index), 적용 inplace = True\n",
    "# df.drop(index=['1번']) # index를 가지고 삭제\n",
    "df.drop(index=['1번','3번']) # index를 가지고 삭제"
   ]
  },
  {
   "cell_type": "code",
   "execution_count": null,
   "metadata": {},
   "outputs": [],
   "source": [
    "### 50점 이하에 있는 학생의 점수를 +20\n",
    "# filt = df['국어'] < 50\n",
    "# df.loc[filt,'국어'] = df.loc[filt,'국어']+20\n",
    "# filt = df['국어'] > 50\n",
    "# df.loc[filt,'국어'] = df.loc[filt,'국어']+10"
   ]
  },
  {
   "cell_type": "code",
   "execution_count": 39,
   "metadata": {},
   "outputs": [],
   "source": [
    "### 함수\n",
    "def func(value):\n",
    "  if value < 50:\n",
    "    return value+20\n",
    "  else:\n",
    "    return value+10\n",
    "\n",
    "# 함수호출 : apply()\n",
    "df['국어'] = df['국어'].apply(func)"
   ]
  },
  {
   "cell_type": "code",
   "execution_count": null,
   "metadata": {},
   "outputs": [],
   "source": [
    "# nan 데이터 처리 : fillna : 입력, dropna : 삭제\n",
    "# df.fillna('python')  # inplace = True"
   ]
  },
  {
   "cell_type": "code",
   "execution_count": null,
   "metadata": {},
   "outputs": [],
   "source": [
    "### 1. 소문자로 취환\n",
    "### 2. NaN값에  python데이터 입력\n",
    "df['SW특기'] = df['SW특기'].str.lower()\n",
    "\n",
    "# isnull : NaN 확인, isnotnull() : NaN 아닌지 확인\n",
    "filt = df['SW특기'].isnull()\n",
    "df.loc[filt,'SW특기'] = 'python'"
   ]
  },
  {
   "cell_type": "code",
   "execution_count": null,
   "metadata": {},
   "outputs": [],
   "source": [
    "### 함수\n",
    "def func(value):\n",
    "  if pd.notnull(value):\n",
    "    return value.lower()\n",
    "  else:\n",
    "    return \"python\"\n",
    "\n",
    "\n",
    "df['SW특시'] = df['SW특기'].apply(func)\n",
    "df"
   ]
  },
  {
   "cell_type": "code",
   "execution_count": null,
   "metadata": {},
   "outputs": [],
   "source": [
    "# df['이름'] = df['이름'].str[1:3]\n",
    "\n",
    "### 함수를 사용해서\n",
    "def func(value):\n",
    "  return value[1:3]\n",
    "\n",
    "### 이름 첫글자를 제거해서 이름을 입력하시오.\n",
    "df['이름'] = df['이름'].apply(func)\n",
    "df"
   ]
  },
  {
   "cell_type": "code",
   "execution_count": null,
   "metadata": {},
   "outputs": [],
   "source": [
    "### 문자열 함수만 가능 ###\n",
    "# str[:] : 문자슬라이싱\n",
    "# str.split() : 분할               str.split(\",\")\n",
    "# str.startswith() : 시작글자 인식  str.startswith('서울')\n",
    "# str.endswith() : 끝글자 인식      str.endswith('.py')\n",
    "# str.contains() : 포함글자 인식    str.contains('s',na=False)\n",
    "# str.find() : 문자위치 찾기        str.find('안')\n",
    "# str.replace() : 문자 대체         str.replace(\",\":\"\")\n",
    "# str.pad() : 문자열 패딩, 특정글자로 채워줌   str.pad(width=20,side='left',fillchar='_')\n",
    "# str.zfill() : 0으로 채워줌        str.zfill(width=10)   df['국어'].astype(str).str.zfill(width=3)   df['이름'].str.zfill(width=10)\n",
    "# str.strip() : 공백제거            \n",
    "# str.lower() : 소문자로 변경\n",
    "# str.upper() : 대문자로 변경\n",
    "# str.swapcasw() : 대소문자 변경"
   ]
  },
  {
   "cell_type": "code",
   "execution_count": null,
   "metadata": {},
   "outputs": [],
   "source": [
    "###\n",
    "# 1. 요일 컬럼 숫자 0 추가\n",
    "df['요일'] = 0\n",
    "\n",
    "# 2. 0~6 까지의 숫자를 랜덤으로 수정 df.loc\n",
    "import random\n",
    "# df.loc[index,colunms]\n",
    "# df.iloc[2,9] = random.randint(0,7)\n",
    "# df.loc['1번','요일'] = random.randint(0,7)\n",
    "for i in range(8):\n",
    "  df.iloc[i,9] = random.randint(0,6)\n",
    "  \n",
    "# 3. 함수를 사용해서 0-일요일, 1-월요일 ... ,6-토요일로 변경하싱오.\n",
    "def func(value):\n",
    "  if value == 0: return '일요일'\n",
    "  elif value == 1: return '월요일'\n",
    "  elif value == 2: return '화요일'\n",
    "  elif value == 3: return '수요일'\n",
    "  elif value == 4: return '목요일'\n",
    "  elif value == 5: return '금요일'\n",
    "  elif value == 6: return '토요일'\n",
    "\n",
    "df['요일'] = df['요일'].apply(func)"
   ]
  },
  {
   "cell_type": "code",
   "execution_count": 116,
   "metadata": {},
   "outputs": [
    {
     "data": {
      "text/html": [
       "<div>\n",
       "<style scoped>\n",
       "    .dataframe tbody tr th:only-of-type {\n",
       "        vertical-align: middle;\n",
       "    }\n",
       "\n",
       "    .dataframe tbody tr th {\n",
       "        vertical-align: top;\n",
       "    }\n",
       "\n",
       "    .dataframe thead th {\n",
       "        text-align: right;\n",
       "    }\n",
       "</style>\n",
       "<table border=\"1\" class=\"dataframe\">\n",
       "  <thead>\n",
       "    <tr style=\"text-align: right;\">\n",
       "      <th></th>\n",
       "      <th>이름</th>\n",
       "      <th>학교</th>\n",
       "      <th>키</th>\n",
       "      <th>국어</th>\n",
       "      <th>영어</th>\n",
       "      <th>수학</th>\n",
       "      <th>과학</th>\n",
       "      <th>사회</th>\n",
       "      <th>SW특기</th>\n",
       "      <th>요일</th>\n",
       "    </tr>\n",
       "    <tr>\n",
       "      <th>지원번호</th>\n",
       "      <th></th>\n",
       "      <th></th>\n",
       "      <th></th>\n",
       "      <th></th>\n",
       "      <th></th>\n",
       "      <th></th>\n",
       "      <th></th>\n",
       "      <th></th>\n",
       "      <th></th>\n",
       "      <th></th>\n",
       "    </tr>\n",
       "  </thead>\n",
       "  <tbody>\n",
       "    <tr>\n",
       "      <th>1번</th>\n",
       "      <td>강나래</td>\n",
       "      <td>구로고</td>\n",
       "      <td>197</td>\n",
       "      <td>90</td>\n",
       "      <td>85</td>\n",
       "      <td>100</td>\n",
       "      <td>95</td>\n",
       "      <td>85</td>\n",
       "      <td>Python</td>\n",
       "      <td>화요일</td>\n",
       "    </tr>\n",
       "    <tr>\n",
       "      <th>2번</th>\n",
       "      <td>강태원</td>\n",
       "      <td>구로고</td>\n",
       "      <td>184</td>\n",
       "      <td>40</td>\n",
       "      <td>35</td>\n",
       "      <td>50</td>\n",
       "      <td>55</td>\n",
       "      <td>25</td>\n",
       "      <td>Java</td>\n",
       "      <td>수요일</td>\n",
       "    </tr>\n",
       "    <tr>\n",
       "      <th>3번</th>\n",
       "      <td>강호림</td>\n",
       "      <td>구로고</td>\n",
       "      <td>168</td>\n",
       "      <td>80</td>\n",
       "      <td>75</td>\n",
       "      <td>70</td>\n",
       "      <td>80</td>\n",
       "      <td>75</td>\n",
       "      <td>Javascript</td>\n",
       "      <td>일요일</td>\n",
       "    </tr>\n",
       "    <tr>\n",
       "      <th>4번</th>\n",
       "      <td>김수찬</td>\n",
       "      <td>구로고</td>\n",
       "      <td>187</td>\n",
       "      <td>40</td>\n",
       "      <td>60</td>\n",
       "      <td>70</td>\n",
       "      <td>75</td>\n",
       "      <td>80</td>\n",
       "      <td>NaN</td>\n",
       "      <td>금요일</td>\n",
       "    </tr>\n",
       "    <tr>\n",
       "      <th>5번</th>\n",
       "      <td>김재욱</td>\n",
       "      <td>구로고</td>\n",
       "      <td>188</td>\n",
       "      <td>15</td>\n",
       "      <td>20</td>\n",
       "      <td>10</td>\n",
       "      <td>35</td>\n",
       "      <td>10</td>\n",
       "      <td>NaN</td>\n",
       "      <td>금요일</td>\n",
       "    </tr>\n",
       "    <tr>\n",
       "      <th>6번</th>\n",
       "      <td>박동현</td>\n",
       "      <td>디지털고</td>\n",
       "      <td>202</td>\n",
       "      <td>80</td>\n",
       "      <td>100</td>\n",
       "      <td>95</td>\n",
       "      <td>85</td>\n",
       "      <td>80</td>\n",
       "      <td>C</td>\n",
       "      <td>토요일</td>\n",
       "    </tr>\n",
       "    <tr>\n",
       "      <th>7번</th>\n",
       "      <td>박혜정</td>\n",
       "      <td>디지털고</td>\n",
       "      <td>188</td>\n",
       "      <td>55</td>\n",
       "      <td>65</td>\n",
       "      <td>45</td>\n",
       "      <td>40</td>\n",
       "      <td>35</td>\n",
       "      <td>PYTHON</td>\n",
       "      <td>수요일</td>\n",
       "    </tr>\n",
       "    <tr>\n",
       "      <th>8반</th>\n",
       "      <td>승근열</td>\n",
       "      <td>디지털고</td>\n",
       "      <td>190</td>\n",
       "      <td>100</td>\n",
       "      <td>85</td>\n",
       "      <td>90</td>\n",
       "      <td>95</td>\n",
       "      <td>95</td>\n",
       "      <td>C#</td>\n",
       "      <td>화요일</td>\n",
       "    </tr>\n",
       "  </tbody>\n",
       "</table>\n",
       "</div>"
      ],
      "text/plain": [
       "       이름    학교    키   국어   영어   수학  과학  사회        SW특기   요일\n",
       "지원번호                                                        \n",
       "1번    강나래   구로고  197   90   85  100  95  85      Python  화요일\n",
       "2번    강태원   구로고  184   40   35   50  55  25        Java  수요일\n",
       "3번    강호림   구로고  168   80   75   70  80  75  Javascript  일요일\n",
       "4번    김수찬   구로고  187   40   60   70  75  80         NaN  금요일\n",
       "5번    김재욱   구로고  188   15   20   10  35  10         NaN  금요일\n",
       "6번    박동현  디지털고  202   80  100   95  85  80           C  토요일\n",
       "7번    박혜정  디지털고  188   55   65   45  40  35      PYTHON  수요일\n",
       "8반    승근열  디지털고  190  100   85   90  95  95          C#  화요일"
      ]
     },
     "execution_count": 116,
     "metadata": {},
     "output_type": "execute_result"
    }
   ],
   "source": [
    "df"
   ]
  }
 ],
 "metadata": {
  "kernelspec": {
   "display_name": "Python 3",
   "language": "python",
   "name": "python3"
  },
  "language_info": {
   "codemirror_mode": {
    "name": "ipython",
    "version": 3
   },
   "file_extension": ".py",
   "mimetype": "text/x-python",
   "name": "python",
   "nbconvert_exporter": "python",
   "pygments_lexer": "ipython3",
   "version": "3.12.6"
  }
 },
 "nbformat": 4,
 "nbformat_minor": 2
}
