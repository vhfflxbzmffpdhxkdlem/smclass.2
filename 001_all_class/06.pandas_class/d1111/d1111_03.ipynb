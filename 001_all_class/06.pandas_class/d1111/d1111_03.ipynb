{
 "cells": [
  {
   "cell_type": "code",
   "execution_count": 2,
   "metadata": {},
   "outputs": [],
   "source": [
    "import pandas as pd\n",
    "import numpy as np"
   ]
  },
  {
   "cell_type": "code",
   "execution_count": 28,
   "metadata": {},
   "outputs": [],
   "source": [
    "df = pd.read_excel('score.xlsx',index_col='지원번호')"
   ]
  },
  {
   "cell_type": "code",
   "execution_count": null,
   "metadata": {},
   "outputs": [],
   "source": [
    "### 그룹화\n",
    "# 해당되는 그룹의 리스트 보여줌\n",
    "# df.groupby('학교').get_group('구로고')\n",
    "# df.groupby('학교').mean()\n",
    "df.groupby('학교').size()  # 해당 학교 학생수 확인\n",
    "df.groupby('학교').size()['구로고']   \n",
    "df.groupby('학교').size()['디지털고']   \n",
    "df.groupby('학교')['키'].mean()   # 학교별 키의 평균값 출력"
   ]
  },
  {
   "cell_type": "code",
   "execution_count": null,
   "metadata": {},
   "outputs": [],
   "source": [
    "df.groupby('학교').get_group('구로고')"
   ]
  },
  {
   "cell_type": "code",
   "execution_count": null,
   "metadata": {},
   "outputs": [],
   "source": [
    "df.groupby('학교').size()"
   ]
  },
  {
   "cell_type": "markdown",
   "metadata": {},
   "source": [
    "그룹별로 최대값,최소값,평균,합계"
   ]
  },
  {
   "cell_type": "code",
   "execution_count": null,
   "metadata": {},
   "outputs": [],
   "source": [
    "# 학교 그룹별 - 키,평균 출력\n",
    "df.groupby('학교')['키'].mean()\n",
    "# 학교 그룹별 - 키,국어점수 평균 출력\n",
    "df.groupby('학교')[['키','국어']].mean()\n",
    "df.groupby('학교')['키'].max()"
   ]
  },
  {
   "cell_type": "code",
   "execution_count": null,
   "metadata": {},
   "outputs": [
    {
     "data": {
      "text/plain": [
       "np.float64(188.0)"
      ]
     },
     "execution_count": 25,
     "metadata": {},
     "output_type": "execute_result"
    }
   ],
   "source": [
    "# 컬럼별 최대값,최소값,평균,합계,표준편차\n",
    "df['키'].mean()"
   ]
  },
  {
   "cell_type": "code",
   "execution_count": null,
   "metadata": {},
   "outputs": [
    {
     "data": {
      "text/plain": [
       "학교\n",
       "구로고     184.800000\n",
       "디지털고    193.333333\n",
       "Name: 키, dtype: float64"
      ]
     },
     "execution_count": 27,
     "metadata": {},
     "output_type": "execute_result"
    }
   ],
   "source": [
    "df.groupby('학교')  # 그룹이 됨.\n",
    "df.groupby('학교')['키'].mean()"
   ]
  },
  {
   "cell_type": "code",
   "execution_count": 29,
   "metadata": {},
   "outputs": [],
   "source": [
    "# 컬럼을 추가\n",
    "df['학년'] = [3,3,2,1,3,2,2,1]"
   ]
  },
  {
   "cell_type": "code",
   "execution_count": 31,
   "metadata": {},
   "outputs": [
    {
     "data": {
      "text/plain": [
       "학교    학년\n",
       "구로고   1     1\n",
       "      2     1\n",
       "      3     3\n",
       "디지털고  1     1\n",
       "      2     2\n",
       "dtype: int64"
      ]
     },
     "execution_count": 31,
     "metadata": {},
     "output_type": "execute_result"
    }
   ],
   "source": [
    "df.groupby(['학교','학년']).size()"
   ]
  },
  {
   "cell_type": "code",
   "execution_count": null,
   "metadata": {},
   "outputs": [],
   "source": [
    "df.groupby('학교')[['이름','SW특기']].count()"
   ]
  },
  {
   "cell_type": "code",
   "execution_count": null,
   "metadata": {},
   "outputs": [],
   "source": [
    "df.groupby('학교').count()\n",
    "df.groupby('학년')['이름'].count()"
   ]
  },
  {
   "cell_type": "code",
   "execution_count": 43,
   "metadata": {},
   "outputs": [
    {
     "data": {
      "text/plain": [
       "학교\n",
       "구로고     197\n",
       "디지털고    202\n",
       "Name: 키, dtype: int64"
      ]
     },
     "execution_count": 43,
     "metadata": {},
     "output_type": "execute_result"
    }
   ],
   "source": [
    "df.groupby('학년').sum().sort_values('키')\n",
    "df.groupby('학교').sum().sort_values('키')\n",
    "df.groupby('학교')['키'].max()"
   ]
  },
  {
   "cell_type": "code",
   "execution_count": null,
   "metadata": {},
   "outputs": [],
   "source": [
    "### 그룹화 \n",
    "# 컬럼을 기준으로 그룹핀 - df.groupby(컬럼)  sum():합계, count():개수. sizw():크기\n",
    "df.groupby('학교').count()\n",
    "df.groupby(['학교','학년']).count()\n",
    "# 컬럼지정필요 : df.groupby(컬럼)[숫자타입컬럼]   mean(),max(),min()\n",
    "df.groupby('학교')['키'].min()\n",
    "df.groupby('학교')[['키','학년']].min()\n",
    "\n",
    "# 그룹별 키로 정렬 , ascending-False : 역순정렬\n",
    "df.groupby('학년')['키'].mean().sort_values(ascending=False)\n",
    "\n",
    "### value_count() : 그룹핑 개수\n",
    "df.groupby('학교')['학년'].value_counts().loc['구로고']\n",
    "df.groupby('학교')['학년'].value_counts(normalize=True).loc['구로고']"
   ]
  },
  {
   "cell_type": "code",
   "execution_count": null,
   "metadata": {},
   "outputs": [],
   "source": [
    "df.value_counts()"
   ]
  },
  {
   "cell_type": "code",
   "execution_count": null,
   "metadata": {},
   "outputs": [],
   "source": [
    "# 학교로 그룹핑 학년으로 학생수 출력\n",
    "## 그룹핑을 했을대 사용되는 개수\n",
    "school = df.groupby('학교')['학년'].value_counts()"
   ]
  },
  {
   "cell_type": "code",
   "execution_count": null,
   "metadata": {},
   "outputs": [],
   "source": [
    "### 학교로 그륩핑을 해서 구로고 학생만 학년으로 학생수 출력\n",
    "df.groupby('학교')['학년'].value_counts().loc['구로고']\n",
    "# 퍼센트로 출력됨 : normalize=True\n",
    "df.groupby('학교')['학년'].value_counts(normalize=True).loc['구로고']"
   ]
  },
  {
   "cell_type": "code",
   "execution_count": null,
   "metadata": {},
   "outputs": [],
   "source": [
    "# 구로고 학생의 키의 합계를 구하시오.\n",
    "df.groupby('학교')['키'].sum().value_counts()"
   ]
  },
  {
   "cell_type": "code",
   "execution_count": null,
   "metadata": {},
   "outputs": [],
   "source": [
    "df_s = df.groupby('학교')['키'].sum()\n",
    "df_s.loc[df.groupby('학교')['키'].sum()>600]"
   ]
  },
  {
   "cell_type": "code",
   "execution_count": null,
   "metadata": {},
   "outputs": [],
   "source": [
    "df.groupby('학교')['키'].mean()\n",
    "df.groupby('학교')['키'].min()\n",
    "df.groupby('학교')['키'].max()\n",
    "df.groupby('학교')['키'].sum()\n",
    "df.groupby('학교')['키'].agg(['mean','min','max','sum'])"
   ]
  },
  {
   "cell_type": "code",
   "execution_count": 89,
   "metadata": {},
   "outputs": [
    {
     "data": {
      "text/plain": [
       "학교\n",
       "구로고     5\n",
       "디지털고    3\n",
       "Name: count, dtype: int64"
      ]
     },
     "execution_count": 89,
     "metadata": {},
     "output_type": "execute_result"
    }
   ],
   "source": [
    "df['학교'].value_counts()"
   ]
  }
 ],
 "metadata": {
  "kernelspec": {
   "display_name": "Python 3",
   "language": "python",
   "name": "python3"
  },
  "language_info": {
   "codemirror_mode": {
    "name": "ipython",
    "version": 3
   },
   "file_extension": ".py",
   "mimetype": "text/x-python",
   "name": "python",
   "nbconvert_exporter": "python",
   "pygments_lexer": "ipython3",
   "version": "3.12.6"
  }
 },
 "nbformat": 4,
 "nbformat_minor": 2
}
