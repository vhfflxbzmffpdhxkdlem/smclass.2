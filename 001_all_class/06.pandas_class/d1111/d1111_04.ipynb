{
 "cells": [
  {
   "cell_type": "code",
   "execution_count": 1,
   "metadata": {},
   "outputs": [],
   "source": [
    "import pandas as pd\n",
    "import numpy as np"
   ]
  },
  {
   "cell_type": "code",
   "execution_count": 80,
   "metadata": {},
   "outputs": [],
   "source": [
    "df = pd.read_csv('chipotle.tsv',sep='\\t')"
   ]
  },
  {
   "cell_type": "code",
   "execution_count": null,
   "metadata": {},
   "outputs": [],
   "source": [
    "### item_name 그룹별로 개수확인\n",
    "# df.groupby('item_name')['order_id'].count()  # 그룹화를 해서 출력\n",
    "df['item_name'].value_counts().sort_values()   # 순차정렬\n",
    "df['item_name'].value_counts().sort_values(ascending=False)   # 역순정렬\n",
    "df['item_name'].value_counts()   # 자동정렬"
   ]
  },
  {
   "cell_type": "code",
   "execution_count": null,
   "metadata": {},
   "outputs": [],
   "source": [
    "# items() item_name, 개수를 튜플형태로 리턴해줌.\n",
    "list(df['item_name'].value_counts().items())"
   ]
  },
  {
   "cell_type": "code",
   "execution_count": null,
   "metadata": {},
   "outputs": [
    {
     "data": {
      "text/plain": [
       "'Chicken Burrito'"
      ]
     },
     "execution_count": 19,
     "metadata": {},
     "output_type": "execute_result"
    }
   ],
   "source": [
    "# 전체 item_name 개수 확인\n",
    "df['item_name'].value_counts()\n",
    "# index[0] : 1번째 리스트 제목을 출력\n",
    "df['item_name'].value_counts().index[0]"
   ]
  },
  {
   "cell_type": "code",
   "execution_count": null,
   "metadata": {},
   "outputs": [],
   "source": [
    "# 주문수량\n",
    "\n",
    "# 주문 총량"
   ]
  },
  {
   "cell_type": "code",
   "execution_count": null,
   "metadata": {},
   "outputs": [],
   "source": [
    "df.columns\n",
    "# 주문번호, 주문수량, 메뉴명, 추가옵션, 메뉴금액\n",
    "# 'order_id', 'quantity', 'item_name', 'choice_description','item_price'"
   ]
  },
  {
   "cell_type": "code",
   "execution_count": null,
   "metadata": {},
   "outputs": [],
   "source": [
    "## 메뉴별 주문 수량 체크\n",
    "df['item_name'].value_counts()"
   ]
  },
  {
   "cell_type": "code",
   "execution_count": null,
   "metadata": {},
   "outputs": [],
   "source": [
    "### 주문메뉴 Chicken Bowl 인 quantity 합계 구하시오.\n",
    "df.groupby('item_name')['quantity'].value_counts()"
   ]
  },
  {
   "cell_type": "code",
   "execution_count": null,
   "metadata": {},
   "outputs": [],
   "source": [
    "df[df['item_name']=='Chicken Bowl']['quantity'].sum()"
   ]
  },
  {
   "cell_type": "code",
   "execution_count": null,
   "metadata": {},
   "outputs": [],
   "source": [
    "df.groupby('item_name')['quantity'].sum().sort_values(ascending=False)"
   ]
  },
  {
   "cell_type": "code",
   "execution_count": null,
   "metadata": {},
   "outputs": [],
   "source": [
    "## 주문 평균 금액을 출력하시오.\n",
    "## 1. item_price -> float 변환후\n",
    "#df['item_price'] = df['item_price'].str[1:].astype(float)\n",
    "df['item_price'] = df['item_price'].str.replace(\"$\",\"\").astype(float)\n",
    "## 2. order_id 그룹화\n",
    "df.groupby('order_id')['item_price']\n",
    "# 3. order_id 로 합계를 낸 후, 평균을 해야 함.\n",
    "df.groupby('order_id')['item_price'].sum().mean()\n"
   ]
  },
  {
   "cell_type": "code",
   "execution_count": null,
   "metadata": {},
   "outputs": [],
   "source": [
    "# 총주무 수량을 출력하시오.\n",
    "len(df['order_id'].unique())\n",
    "df.shape"
   ]
  },
  {
   "cell_type": "code",
   "execution_count": null,
   "metadata": {},
   "outputs": [],
   "source": [
    "### 각 아이템별 가격을 구하시오.\n",
    "### 주문이 1개인 메뉴를 먼저 출력하시오.\n",
    "filt = df['quantity'] == 1\n",
    "df[filt][['item_name','item_price']].min()\n",
    "df[filt].groupby('item_name')[['item_price']].min().sort_values('item_price')\n",
    "df[filt].groupby('item_name')[['item_price']].min().count()\n",
    "### 순차정렬하시오."
   ]
  },
  {
   "cell_type": "code",
   "execution_count": null,
   "metadata": {},
   "outputs": [],
   "source": [
    "df.groupby('item_name')['item_price'].unique()"
   ]
  },
  {
   "cell_type": "code",
   "execution_count": null,
   "metadata": {},
   "outputs": [],
   "source": [
    "## 한 주문당 20 달러 이상 주문한 order_id 를 출력 하시오.\n",
    "df_s = df.groupby('order_id').sum()['item_price'].sort_values(ascending=False)\n",
    "filt = df.groupby('order_id').sum()['item_price'].sort_values(ascending=False)>=20\n",
    "df_s.loc[filt].count()"
   ]
  },
  {
   "cell_type": "code",
   "execution_count": null,
   "metadata": {},
   "outputs": [],
   "source": [
    "#### Vaggie Salad Bowl\n",
    "filt = df['item_name'] == 'Veggie Salad Bowl'\n",
    "df.loc[filt].count()\n",
    "df.loc[filt]"
   ]
  },
  {
   "cell_type": "code",
   "execution_count": null,
   "metadata": {},
   "outputs": [],
   "source": [
    "# Chicken Salad Bowl 몇개 주문되었는지 출력하시오.\n",
    "#filt = df['item_name'] == 'Chicken Salad Bowl'\n",
    "# 2개이상 주문한 내역 - 13개\n",
    "filt = (df['item_name'] == 'Chicken Salad Bowl') & (df['quantity']>1)\n",
    "df.loc[filt]['quantity'].count()  #110\n",
    "# 주문 총수량\n",
    "# df.loc[filt]['quantity'].sum()  #123\n",
    "# df.loc[filt]['quantity'].sort_values(ascending=False).head(30)\n",
    "# df.loc[filt].groupby('quantity').count()"
   ]
  },
  {
   "cell_type": "code",
   "execution_count": null,
   "metadata": {},
   "outputs": [],
   "source": [
    "# Chicken Bowl 2개 이상 주문한 횟수를 출력하시오.\n",
    "# filt = (df['item_name'] == 'Chicken Bowl') & (df['quantity']>1)\n",
    "# df.loc[filt][['quantity','item_name']].sort_values('quantity',ascending=False).count()\n",
    "filt = df['item_name'] == 'Chicken Bowl'\n",
    "df.loc[filt][['quantity','item_name']].sort_values('quantity',ascending=False).count()\n",
    "df.loc[filt]['quantity'].count() #726\n",
    "df.loc[filt]['quantity'].sum() #761  수가 다른 이유는 한 사람이 여러개 시킨 경우가 있기 때문이다"
   ]
  },
  {
   "cell_type": "code",
   "execution_count": null,
   "metadata": {},
   "outputs": [
    {
     "data": {
      "text/plain": [
       "item_name\n",
       "Chicken Bowl                             726\n",
       "Chicken Burrito                          553\n",
       "Chips and Guacamole                      479\n",
       "Steak Burrito                            368\n",
       "Canned Soft Drink                        301\n",
       "Chips                                    211\n",
       "Steak Bowl                               211\n",
       "Bottled Water                            162\n",
       "Chicken Soft Tacos                       115\n",
       "Chips and Fresh Tomato Salsa             110\n",
       "Chicken Salad Bowl                       110\n",
       "Canned Soda                              104\n",
       "Side of Chips                            101\n",
       "Veggie Burrito                            95\n",
       "Barbacoa Burrito                          91\n",
       "Veggie Bowl                               85\n",
       "Carnitas Bowl                             68\n",
       "Barbacoa Bowl                             66\n",
       "Carnitas Burrito                          59\n",
       "Steak Soft Tacos                          55\n",
       "6 Pack Soft Drink                         54\n",
       "Chips and Tomatillo Red Chili Salsa       48\n",
       "Chicken Crispy Tacos                      47\n",
       "Chips and Tomatillo Green Chili Salsa     43\n",
       "Carnitas Soft Tacos                       40\n",
       "Steak Crispy Tacos                        35\n",
       "Chips and Tomatillo-Green Chili Salsa     31\n",
       "Steak Salad Bowl                          29\n",
       "Nantucket Nectar                          27\n",
       "Barbacoa Soft Tacos                       25\n",
       "Chips and Roasted Chili Corn Salsa        22\n",
       "Izze                                      20\n",
       "Chips and Tomatillo-Red Chili Salsa       20\n",
       "Veggie Salad Bowl                         18\n",
       "Chips and Roasted Chili-Corn Salsa        18\n",
       "Barbacoa Crispy Tacos                     11\n",
       "Barbacoa Salad Bowl                       10\n",
       "Chicken Salad                              9\n",
       "Veggie Soft Tacos                          7\n",
       "Carnitas Crispy Tacos                      7\n",
       "Burrito                                    6\n",
       "Carnitas Salad Bowl                        6\n",
       "Veggie Salad                               6\n",
       "Steak Salad                                4\n",
       "Crispy Tacos                               2\n",
       "Bowl                                       2\n",
       "Salad                                      2\n",
       "Chips and Mild Fresh Tomato Salsa          1\n",
       "Veggie Crispy Tacos                        1\n",
       "Carnitas Salad                             1\n",
       "Name: count, dtype: int64"
      ]
     },
     "execution_count": 174,
     "metadata": {},
     "output_type": "execute_result"
    }
   ],
   "source": [
    "filt = df['item_name'] == 'Chicken Bowl'\n",
    "df[filt].count\n",
    "\n",
    "df['item_name'].value_counts()"
   ]
  }
 ],
 "metadata": {
  "kernelspec": {
   "display_name": "Python 3",
   "language": "python",
   "name": "python3"
  },
  "language_info": {
   "codemirror_mode": {
    "name": "ipython",
    "version": 3
   },
   "file_extension": ".py",
   "mimetype": "text/x-python",
   "name": "python",
   "nbconvert_exporter": "python",
   "pygments_lexer": "ipython3",
   "version": "3.12.6"
  }
 },
 "nbformat": 4,
 "nbformat_minor": 2
}
