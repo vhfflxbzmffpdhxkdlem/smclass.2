{
 "cells": [
  {
   "cell_type": "code",
   "execution_count": null,
   "metadata": {},
   "outputs": [],
   "source": [
    "import pandas as pd"
   ]
  },
  {
   "cell_type": "code",
   "execution_count": null,
   "metadata": {},
   "outputs": [],
   "source": [
    "# 상단 3개를 삭제후 가져오기\n",
    "# index 행정기관을 지정해서 df로 변환해서 출력\n",
    "# 위 5개만 출력을 해보세요."
   ]
  },
  {
   "cell_type": "code",
   "execution_count": null,
   "metadata": {},
   "outputs": [],
   "source": [
    "# usecols : 원하는 컬럼만 가져올수 있음. 설정 : 'B,D,E' , 'B,E:Y' , 'A:E'\n",
    "df = pd.read_excel('연령별인구현황01.xlsx',skiprows=3,index_col='행정기관',usecols='B,E:Y')\n",
    "df.head()"
   ]
  },
  {
   "cell_type": "code",
   "execution_count": null,
   "metadata": {},
   "outputs": [],
   "source": [
    "# df[0]  # 에러\n",
    "# df[이름] : 컬럼을 보는 명령어 df['0~4세']\n",
    "# df[슬라이싱] : row을 보는 명령어 df[1:3]\n",
    "# df.iloc[번호] : row을 보는 명령어 df.iloc[3]\n",
    "# df.loc[이름] : row을 보는 명령어 df.loc['전국  ']\n",
    "df.index\n",
    "df[0:1]\n",
    "# df.info()\n",
    "# 데이터 reploace함수를 적용, 타입을 변경 : astype\n",
    "# df.iloc[0] = df.iloc[0].str.replace(\",\",\"\").astype(int)\n",
    "df"
   ]
  },
  {
   "cell_type": "code",
   "execution_count": null,
   "metadata": {},
   "outputs": [],
   "source": [
    "### 남자부분만 가져옴\n",
    "### 여자부분만 가져오서 출력하시오.\n",
    "## 위 3개를 제외하고, 행정기관 index, 영자부분만 가져옴.\n",
    "## [0], 천단위 제거, 차입을 int로 변경하시오."
   ]
  },
  {
   "cell_type": "code",
   "execution_count": 64,
   "metadata": {},
   "outputs": [
    {
     "name": "stderr",
     "output_type": "stream",
     "text": [
      "c:\\python\\Lib\\site-packages\\openpyxl\\styles\\stylesheet.py:237: UserWarning: Workbook contains no default style, apply openpyxl's default\n",
      "  warn(\"Workbook contains no default style, apply openpyxl's default\")\n"
     ]
    },
    {
     "data": {
      "text/html": [
       "<div>\n",
       "<style scoped>\n",
       "    .dataframe tbody tr th:only-of-type {\n",
       "        vertical-align: middle;\n",
       "    }\n",
       "\n",
       "    .dataframe tbody tr th {\n",
       "        vertical-align: top;\n",
       "    }\n",
       "\n",
       "    .dataframe thead th {\n",
       "        text-align: right;\n",
       "    }\n",
       "</style>\n",
       "<table border=\"1\" class=\"dataframe\">\n",
       "  <thead>\n",
       "    <tr style=\"text-align: right;\">\n",
       "      <th></th>\n",
       "      <th>연령구간인구수.2</th>\n",
       "      <th>0~4세.2</th>\n",
       "      <th>5~9세.2</th>\n",
       "      <th>10~14세.2</th>\n",
       "      <th>15~19세.2</th>\n",
       "      <th>20~24세.2</th>\n",
       "      <th>25~29세.2</th>\n",
       "      <th>30~34세.2</th>\n",
       "      <th>35~39세.2</th>\n",
       "      <th>40~44세.2</th>\n",
       "      <th>...</th>\n",
       "      <th>55~59세.2</th>\n",
       "      <th>60~64세.2</th>\n",
       "      <th>65~69세.2</th>\n",
       "      <th>70~74세.2</th>\n",
       "      <th>75~79세.2</th>\n",
       "      <th>80~84세.2</th>\n",
       "      <th>85~89세.2</th>\n",
       "      <th>90~94세.2</th>\n",
       "      <th>95~99세.2</th>\n",
       "      <th>100세 이상.2</th>\n",
       "    </tr>\n",
       "    <tr>\n",
       "      <th>행정기관</th>\n",
       "      <th></th>\n",
       "      <th></th>\n",
       "      <th></th>\n",
       "      <th></th>\n",
       "      <th></th>\n",
       "      <th></th>\n",
       "      <th></th>\n",
       "      <th></th>\n",
       "      <th></th>\n",
       "      <th></th>\n",
       "      <th></th>\n",
       "      <th></th>\n",
       "      <th></th>\n",
       "      <th></th>\n",
       "      <th></th>\n",
       "      <th></th>\n",
       "      <th></th>\n",
       "      <th></th>\n",
       "      <th></th>\n",
       "      <th></th>\n",
       "      <th></th>\n",
       "    </tr>\n",
       "  </thead>\n",
       "  <tbody>\n",
       "    <tr>\n",
       "      <th>전국</th>\n",
       "      <td>25,754,968</td>\n",
       "      <td>646,489</td>\n",
       "      <td>968,575</td>\n",
       "      <td>1,132,783</td>\n",
       "      <td>1,123,926</td>\n",
       "      <td>1,335,449</td>\n",
       "      <td>1,614,754</td>\n",
       "      <td>1,613,807</td>\n",
       "      <td>1,535,876</td>\n",
       "      <td>1,983,088</td>\n",
       "      <td>...</td>\n",
       "      <td>2,095,081</td>\n",
       "      <td>2,121,194</td>\n",
       "      <td>1,761,993</td>\n",
       "      <td>1,206,642</td>\n",
       "      <td>947,851</td>\n",
       "      <td>810,820</td>\n",
       "      <td>487,910</td>\n",
       "      <td>189,338</td>\n",
       "      <td>44,265</td>\n",
       "      <td>7,144</td>\n",
       "    </tr>\n",
       "  </tbody>\n",
       "</table>\n",
       "<p>1 rows × 22 columns</p>\n",
       "</div>"
      ],
      "text/plain": [
       "       연령구간인구수.2   0~4세.2   5~9세.2   10~14세.2   15~19세.2   20~24세.2  \\\n",
       "행정기관                                                                  \n",
       "전국    25,754,968  646,489  968,575  1,132,783  1,123,926  1,335,449   \n",
       "\n",
       "       25~29세.2   30~34세.2   35~39세.2   40~44세.2  ...   55~59세.2   60~64세.2  \\\n",
       "행정기관                                              ...                         \n",
       "전국    1,614,754  1,613,807  1,535,876  1,983,088  ...  2,095,081  2,121,194   \n",
       "\n",
       "       65~69세.2   70~74세.2 75~79세.2 80~84세.2 85~89세.2 90~94세.2 95~99세.2  \\\n",
       "행정기관                                                                      \n",
       "전국    1,761,993  1,206,642  947,851  810,820  487,910  189,338   44,265   \n",
       "\n",
       "     100세 이상.2  \n",
       "행정기관            \n",
       "전국       7,144  \n",
       "\n",
       "[1 rows x 22 columns]"
      ]
     },
     "execution_count": 64,
     "metadata": {},
     "output_type": "execute_result"
    }
   ],
   "source": [
    "df1 = pd.read_excel('연령별인구현황01.xlsx',skiprows=3,index_col='행정기관',usecols='B,AX:BS')\n",
    "df.columns\n",
    "df1.columns\n",
    "df['0~4세']\n",
    "df1['0~4세.2']\n",
    "# 여자컬럼과 남자 컬럼명 다르기에 통일\n",
    "# df1.columns = df.columns\n",
    "df1.columns\n",
    "# df1.iloc[0] = df1.iloc[0].str.replace(\",\",\"\").astype(int)\n",
    "df1[0:1]\n"
   ]
  }
 ],
 "metadata": {
  "kernelspec": {
   "display_name": "Python 3",
   "language": "python",
   "name": "python3"
  },
  "language_info": {
   "codemirror_mode": {
    "name": "ipython",
    "version": 3
   },
   "file_extension": ".py",
   "mimetype": "text/x-python",
   "name": "python",
   "nbconvert_exporter": "python",
   "pygments_lexer": "ipython3",
   "version": "3.12.6"
  }
 },
 "nbformat": 4,
 "nbformat_minor": 2
}
