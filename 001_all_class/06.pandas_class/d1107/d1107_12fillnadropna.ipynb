{
 "cells": [
  {
   "cell_type": "code",
   "execution_count": null,
   "metadata": {},
   "outputs": [],
   "source": [
    "import pandas as pd\n",
    "import numpy as np\n",
    "df = pd.read_excel('score.xlsx',index_col='지원번호')\n",
    "df"
   ]
  },
  {
   "cell_type": "markdown",
   "metadata": {},
   "source": [
    "fillna() : NaN데이터 값 처리"
   ]
  },
  {
   "cell_type": "code",
   "execution_count": null,
   "metadata": {},
   "outputs": [],
   "source": [
    "# 결측치(NaN데이터)\n",
    "# NaN데이터 채우기 : fillna()\n",
    "# df.fillna('',inplace=True)\n",
    "df.fillna('없음',inplace=True)\n",
    "df"
   ]
  },
  {
   "cell_type": "code",
   "execution_count": null,
   "metadata": {},
   "outputs": [],
   "source": [
    "# 학교컬럼에 NaN 데이터를 입력  : np.nan\n",
    "df['학교'] = np.nan\n",
    "# df.fillna('없음') # inplace=True, 모둔 NaN값에 해당데이터를 입력\n",
    "# df['SW특기'].fillna('없음',inplace=True) # 해당컬럼에만 적용"
   ]
  },
  {
   "cell_type": "code",
   "execution_count": null,
   "metadata": {},
   "outputs": [],
   "source": [
    "df = pd.read_excel('score.xlsx',index_col='지원번호')\n",
    "df\n",
    "# df['학교'] = np.nan"
   ]
  },
  {
   "cell_type": "code",
   "execution_count": null,
   "metadata": {},
   "outputs": [],
   "source": [
    "# NaN 데이터 삭제 : dropna()\n",
    "df.dropna()  # NaN 데이터가 있는 row를 모두 삭제"
   ]
  },
  {
   "cell_type": "code",
   "execution_count": null,
   "metadata": {},
   "outputs": [],
   "source": [
    "# axis 축 : index 방향으로 삭제\n",
    "# NaN 4,5번 row 데이터가 삭제\n",
    "df.dropna(axis='index',how='any')"
   ]
  },
  {
   "cell_type": "code",
   "execution_count": null,
   "metadata": {},
   "outputs": [],
   "source": [
    "# dropna : NaN 데이터 삭제, \n",
    "# axis : 축 - index : row삭제, columns : column삭제\n",
    "# how default : any - NaN값이 1개라도 있으면 삭제, all - 전부 NaN일때 삭제됨\n",
    "df.dropna(axis='columns',how = 'all')"
   ]
  },
  {
   "cell_type": "code",
   "execution_count": null,
   "metadata": {},
   "outputs": [],
   "source": [
    "df['학교'] = np.nan"
   ]
  },
  {
   "cell_type": "code",
   "execution_count": null,
   "metadata": {},
   "outputs": [],
   "source": [
    "df"
   ]
  },
  {
   "cell_type": "markdown",
   "metadata": {},
   "source": [
    "* fillna : NaN데이터 해당값으로 채워줌\n",
    "* dropna : NaN데이터를 삭제\n",
    "- axis : 축 index - row방향으로 삭제,columns - columns 방향으로 삭제\n",
    "- how : 어떤경우에 삭제할지 결정 any - 1개라도 NaN 값이 있을때면 삭제,all - 모두 NaN일때 삭제"
   ]
  },
  {
   "cell_type": "markdown",
   "metadata": {},
   "source": [
    "* np.nan : numpy라이브러리 NaN 입력"
   ]
  },
  {
   "cell_type": "code",
   "execution_count": null,
   "metadata": {},
   "outputs": [],
   "source": []
  }
 ],
 "metadata": {
  "kernelspec": {
   "display_name": "Python 3",
   "language": "python",
   "name": "python3"
  },
  "language_info": {
   "codemirror_mode": {
    "name": "ipython",
    "version": 3
   },
   "file_extension": ".py",
   "mimetype": "text/x-python",
   "name": "python",
   "nbconvert_exporter": "python",
   "pygments_lexer": "ipython3",
   "version": "3.12.6"
  }
 },
 "nbformat": 4,
 "nbformat_minor": 2
}
