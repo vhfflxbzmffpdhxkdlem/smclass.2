{
 "cells": [
  {
   "cell_type": "code",
   "execution_count": null,
   "metadata": {},
   "outputs": [],
   "source": [
    "import pandas as pd\n",
    "df = pd.read_excel('score.xlsx',index_col='지원번호')\n",
    "df"
   ]
  },
  {
   "cell_type": "code",
   "execution_count": 6,
   "metadata": {},
   "outputs": [
    {
     "data": {
      "text/plain": [
       "np.int64(202)"
      ]
     },
     "execution_count": 6,
     "metadata": {},
     "output_type": "execute_result"
    }
   ],
   "source": [
    "df['이름']\n",
    "df[['이름','학교','키']]\n",
    "df[['키','이름','SW특기']]"
   ]
  },
  {
   "cell_type": "code",
   "execution_count": null,
   "metadata": {},
   "outputs": [],
   "source": [
    "df = pd.read_excel('score.xlsx',index_col='이름')\n",
    "df\n",
    "df.sort_index(ascending=False)"
   ]
  },
  {
   "cell_type": "code",
   "execution_count": null,
   "metadata": {},
   "outputs": [],
   "source": [
    "df = pd.read_excel('score.xlsx',index_col='지원번호')\n",
    "df\n",
    "df.describe()\n",
    "df['국어'].describe()"
   ]
  },
  {
   "cell_type": "code",
   "execution_count": null,
   "metadata": {},
   "outputs": [],
   "source": [
    "df.describe()  # 숫자에 해당되는 것만 출력됨."
   ]
  },
  {
   "cell_type": "code",
   "execution_count": null,
   "metadata": {},
   "outputs": [
    {
     "data": {
      "text/plain": [
       "np.int64(500)"
      ]
     },
     "execution_count": 48,
     "metadata": {},
     "output_type": "execute_result"
    }
   ],
   "source": [
    "df.head()\n",
    "df.tail()\n",
    "df.values\n",
    "df.shape\n",
    "df.columns\n",
    "df['이름']\n",
    "df[df.columns[-1]]\n",
    "df.columns[-1]\n",
    "# df[0] # df[번호로는 검색이 안됨.]\n",
    "df[df.columns[0]]  # 1번째 컬럼이 출력이 됨.\n",
    "df[df.columns[-1]]  # 마지막 컬럼이 출력이 됨.\n",
    "df.columns[0:3]  #0,1,2 싸지 컬럼이름을 가져옴.\n",
    "df.columns\n",
    "# df.info()\n",
    "\n",
    "df['키'].min()\n",
    "df['키'].max()\n",
    "df['키'].mean()\n",
    "df['키'].nlargest()\n",
    "df['키'].nsmallest(3)  # 기본은 5개, 숫자를 입력하면 숫자만큼 출력이 됨.\n",
    "df['학교'].unique()  # unique 중복제거\n",
    "df['학교'].nunique()  # 중복제거 개수\n",
    "df['SW특기'].count()  # null값을 제외한 개수\n",
    "df['학교'].count()  # 중복값이 없어서 8개\n",
    "df['국어'].sum()  # 총합의 수\n"
   ]
  },
  {
   "cell_type": "code",
   "execution_count": 55,
   "metadata": {},
   "outputs": [
    {
     "data": {
      "text/plain": [
       "Index(['이름', '국어', 'SW특기'], dtype='object')"
      ]
     },
     "execution_count": 55,
     "metadata": {},
     "output_type": "execute_result"
    }
   ],
   "source": [
    "df.columns\n",
    "df.columns[[0,3,-1]]  # 0,1,마지막번째 가져옴."
   ]
  },
  {
   "cell_type": "code",
   "execution_count": null,
   "metadata": {},
   "outputs": [
    {
     "data": {
      "text/plain": [
       "Index(['학교', '국어', '수학', 'SW특기'], dtype='object')"
      ]
     },
     "execution_count": 58,
     "metadata": {},
     "output_type": "execute_result"
    }
   ],
   "source": [
    "df[['이름','국어']]\n",
    "df.columns[[1,3,5,-1]]  # 0,1,5,마지막번째 가져옴."
   ]
  }
 ],
 "metadata": {
  "kernelspec": {
   "display_name": "Python 3",
   "language": "python",
   "name": "python3"
  },
  "language_info": {
   "codemirror_mode": {
    "name": "ipython",
    "version": 3
   },
   "file_extension": ".py",
   "mimetype": "text/x-python",
   "name": "python",
   "nbconvert_exporter": "python",
   "pygments_lexer": "ipython3",
   "version": "3.12.6"
  }
 },
 "nbformat": 4,
 "nbformat_minor": 2
}
