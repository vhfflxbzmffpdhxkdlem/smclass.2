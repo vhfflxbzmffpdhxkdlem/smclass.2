{
 "cells": [
  {
   "cell_type": "markdown",
   "metadata": {},
   "source": [
    "졸음운전교통사고 3개를 병합\n",
    "사고가 가장 많이 난 횟수 상위 5개를 출력하시오.\n",
    "사망자 평균을 출력하시오"
   ]
  },
  {
   "cell_type": "code",
   "execution_count": 11,
   "metadata": {},
   "outputs": [
    {
     "data": {
      "text/plain": [
       "count    36.000000\n",
       "mean      9.333333\n",
       "std       4.007136\n",
       "min       3.000000\n",
       "25%       7.000000\n",
       "50%       9.000000\n",
       "75%      12.250000\n",
       "max      19.000000\n",
       "Name: 사망(명), dtype: float64"
      ]
     },
     "execution_count": 11,
     "metadata": {},
     "output_type": "execute_result"
    }
   ],
   "source": [
    "import pandas as pd\n",
    "df1 = pd.read_csv('2014년졸음운전교통사고.csv',encoding='euc-kr')\n",
    "df2 = pd.read_csv('2015년졸음운전교통사고.csv',encoding='euc-kr')\n",
    "df3 = pd.read_csv('2016년졸음운전교통사고.csv',encoding='euc-kr')\n",
    "\n",
    "# 3개의 DaterFrame 병합 \n",
    "df = pd.concat([df1,df2,df3])\n",
    "df.describe()\n",
    "df['사고(건)'].nlargest(5)\n",
    "df['사고(건)'].head()\n",
    "df['사고(건)'].tail()\n",
    "df['사고(건)'].nsmallest(5)\n",
    "\n",
    "df['사망(명)'].mean()\n",
    "df['사망(명)'].max()\n",
    "df['사망(명)'].describe()"
   ]
  }
 ],
 "metadata": {
  "kernelspec": {
   "display_name": "Python 3",
   "language": "python",
   "name": "python3"
  },
  "language_info": {
   "codemirror_mode": {
    "name": "ipython",
    "version": 3
   },
   "file_extension": ".py",
   "mimetype": "text/x-python",
   "name": "python",
   "nbconvert_exporter": "python",
   "pygments_lexer": "ipython3",
   "version": "3.12.6"
  }
 },
 "nbformat": 4,
 "nbformat_minor": 2
}
