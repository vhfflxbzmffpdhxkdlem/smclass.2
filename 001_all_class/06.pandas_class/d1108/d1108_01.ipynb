{
 "cells": [
  {
   "cell_type": "code",
   "execution_count": 4,
   "metadata": {},
   "outputs": [],
   "source": [
    "import pandas as pd\n",
    "import numpy as np\n"
   ]
  },
  {
   "cell_type": "code",
   "execution_count": null,
   "metadata": {},
   "outputs": [],
   "source": [
    "# pandas 1차원행렬 -> Series\n",
    "temp = pd.Series([-20,-10,10,20],index=['Jan','Feb','Mar','Apr'])\n",
    "temp.max()\n",
    "temp.min()\n",
    "temp.mean()\n",
    "temp.describe()\n",
    "temp\n",
    "temp['Jan']\n",
    "temp.iloc[0]\n"
   ]
  },
  {
   "cell_type": "code",
   "execution_count": null,
   "metadata": {},
   "outputs": [],
   "source": [
    "# pandas 2차원행렬 -> DataFrame\n",
    "## dict 타입 2차원 구조\n",
    "data = {\n",
    "   '이름' : ['강나래', '강태원', '강호림', '김수찬', '김재욱', '박동현', '박혜정', '승근열'],\n",
    "   '학교' : ['구로고', '구로고', '구로고', '구로고', '구로고', '디지털고', '디지털고', '디지털고'],\n",
    "   '키' : [197, 184, 168, 187, 188, 202, 188, 190],\n",
    "   '국어' : [90, 40, 80, 40, 15, 80, 55, 100],\n",
    "   '영어' : [85, 35, 75, 60, 20, 100, 65, 85],\n",
    "   '수학' : [100, 50, 70, 70, 10, 95, 45, 90],\n",
    "   '과학' : [95, 55, 80, 75, 35, 85, 40, 95],\n",
    "   '사회' : [85, 25, 75, 80, 10, 80, 35, 95],\n",
    "   'SW특기' : ['Python', 'Java', 'Javascript', '', '', 'C', 'PYTHON', 'C#']\n",
    "}\n",
    "df = pd.DataFrame(data)\n",
    "data['이름']"
   ]
  },
  {
   "cell_type": "code",
   "execution_count": null,
   "metadata": {},
   "outputs": [],
   "source": [
    "df['이름']  # 컬럼의 정보가 나타남\n",
    "df.iloc[0]  # row의 정보가 나타남\n",
    "df.loc[0]"
   ]
  },
  {
   "cell_type": "code",
   "execution_count": null,
   "metadata": {},
   "outputs": [],
   "source": [
    "df = pd.DataFrame(data,index=['1번','2번','3번','4번','5번','6번','7번','8번'])\n",
    "df.index.name = '지원번호'\n",
    "df['이름']\n",
    "df.loc['1번']\n",
    "df.iloc[0]"
   ]
  },
  {
   "cell_type": "code",
   "execution_count": null,
   "metadata": {},
   "outputs": [],
   "source": [
    "df[['이름','키','SW특기']]\n",
    "df['학교']"
   ]
  },
  {
   "cell_type": "code",
   "execution_count": null,
   "metadata": {},
   "outputs": [],
   "source": [
    "# df = pd.DataFrame(data,columns=['이름','학교','SW특기'])\n",
    "df = pd.DataFrame(data)\n",
    "df2 = df[['이름','학교','SW특기']]\n",
    "df2"
   ]
  },
  {
   "cell_type": "code",
   "execution_count": null,
   "metadata": {},
   "outputs": [],
   "source": [
    "df = pd.DataFrame(data,index=['1번','2번','3번','4번','5번','6번','7번','8번'])\n",
    "df.index.name = '지원번호'\n",
    "df"
   ]
  },
  {
   "cell_type": "code",
   "execution_count": null,
   "metadata": {},
   "outputs": [],
   "source": [
    "# index,columns 2가지\n",
    "df.index\n",
    "df.columns[0]\n",
    "df.columns\n",
    "df.columns[4]\n",
    "df[df.columns[4]]\n",
    "df['영어']\n",
    "\n",
    "df.index\n",
    "df.loc[[df.index[0],df.index[1]]]\n",
    "df[0:4]\n"
   ]
  },
  {
   "cell_type": "markdown",
   "metadata": {},
   "source": [
    "파일저장 : csv,txt,xlsx"
   ]
  },
  {
   "cell_type": "code",
   "execution_count": 62,
   "metadata": {},
   "outputs": [],
   "source": [
    "df = pd.DataFrame(data,index=['1번','2번','3번','4번','5번','6번','7번','8반'])\n",
    "df.index.name = '지원번호'\n",
    "df\n",
    "# excel 에서 한글이 깨어지지 않음. utf-8로만 하면 깨짐\n",
    "df.to_csv('score.csv',encoding='utf-8-sig')"
   ]
  },
  {
   "cell_type": "code",
   "execution_count": 63,
   "metadata": {},
   "outputs": [],
   "source": [
    "df = pd.DataFrame(data,index=['1번','2번','3번','4번','5번','6번','7번','8반'])\n",
    "df.index.name = '지원번호'\n",
    "df\n",
    "df.to_csv('score.txt',sep = ',')  ## sep = '\\t' 로 변결다능"
   ]
  },
  {
   "cell_type": "code",
   "execution_count": 65,
   "metadata": {},
   "outputs": [],
   "source": [
    "df = pd.DataFrame(data,index=['1번','2번','3번','4번','5번','6번','7번','8반'])\n",
    "df.index.name = '지원번호'\n",
    "df\n",
    "df.to_excel('score.xlsx')  "
   ]
  },
  {
   "cell_type": "markdown",
   "metadata": {},
   "source": [
    "index 지정\n",
    "- reset_index해제"
   ]
  },
  {
   "cell_type": "code",
   "execution_count": null,
   "metadata": {},
   "outputs": [],
   "source": [
    "df = pd.DataFrame(data,index=['1번','2번','3번','4번','5번','6번','7번','8반'])\n",
    "df.index.name = '지원번호'\n",
    "df\n",
    "\n",
    "# index지적 삭제 : drop=True, drop=True를 하지 않으면 index가 컬럼으로 변경됨\n",
    "df.reset_index(drop=True)\n",
    "df\n",
    "# index지정 반영 : inplace=True\n",
    "df.reset_index(drop=True,inplace=True)\n",
    "df"
   ]
  },
  {
   "cell_type": "markdown",
   "metadata": {},
   "source": [
    "set index반영"
   ]
  },
  {
   "cell_type": "code",
   "execution_count": null,
   "metadata": {},
   "outputs": [],
   "source": [
    "df = pd.DataFrame(data)\n",
    "df\n",
    "# index지정, inplace=True 반영\n",
    "df.set_index('이름',inplace=True)\n",
    "df"
   ]
  },
  {
   "cell_type": "markdown",
   "metadata": {},
   "source": [
    "index 정렬"
   ]
  },
  {
   "cell_type": "code",
   "execution_count": null,
   "metadata": {},
   "outputs": [],
   "source": [
    "df \n",
    "# index로 순차정렬 , ascending=Fals : 역순정렬\n",
    "df.sort_index(ascending=False)"
   ]
  },
  {
   "cell_type": "code",
   "execution_count": null,
   "metadata": {},
   "outputs": [],
   "source": [
    "data = {\n",
    "   '영화' : ['명량', '극한직업', '신과함께-죄와 벌', '국제시장', '괴물', '도둑들', '7번방의 선물', '암살'],\n",
    "   '개봉 연도' : [2014, 2019, 2017, 2014, 2006, 2012, 2013, 2015],\n",
    "   '관객 수' : [1761, 1626, 1441, 1426, 1301, 1298, 1281, 1270], # (단위 : 만 명)\n",
    "   '평점' : [8.88, 9.20, 8.73, 9.16, 8.62, 7.64, 8.83, 9.10]\n",
    "}\n",
    "df = pd.DataFrame(data)\n",
    "df"
   ]
  },
  {
   "cell_type": "code",
   "execution_count": null,
   "metadata": {},
   "outputs": [],
   "source": [
    "### index지정 : 영화\n",
    "## 영화이름으로 역순정렬\n",
    "df.set_index('영화',inplace=True)\n",
    "df.sort_index(ascending=False)\n"
   ]
  },
  {
   "cell_type": "markdown",
   "metadata": {},
   "source": [
    "csv,txt,excel 파일열기"
   ]
  },
  {
   "cell_type": "code",
   "execution_count": null,
   "metadata": {},
   "outputs": [],
   "source": [
    "# read_csv : csv파일열기 index 지정 : index_col\n",
    "df = pd.read_csv('score.csv',index_col='지원번호')\n",
    "df"
   ]
  },
  {
   "cell_type": "code",
   "execution_count": null,
   "metadata": {},
   "outputs": [],
   "source": [
    "# read_csv : txt파일열기  , sep = '\\t' 로 지정이 되어 있으면 sep='\\t' \n",
    "df = pd.read_csv('score.txt',sep=',',index_col='지원번호')\n",
    "df"
   ]
  },
  {
   "cell_type": "code",
   "execution_count": null,
   "metadata": {},
   "outputs": [],
   "source": [
    "# read_excel : excel 파일열기\n",
    "df = pd.read_excel('score.xlsx',index_col='지원번호')\n",
    "df"
   ]
  },
  {
   "cell_type": "markdown",
   "metadata": {},
   "source": [
    "DataFrame : 합치기 : concat(리스트)"
   ]
  },
  {
   "cell_type": "code",
   "execution_count": null,
   "metadata": {},
   "outputs": [],
   "source": [
    "df1 = pd.read_csv('2014년졸음운전교통사고.csv',encoding='euc-kr')\n",
    "df2 = pd.read_csv('2015년졸음운전교통사고.csv',encoding='euc-kr')\n",
    "df3 = pd.read_csv('2016년졸음운전교통사고.csv',encoding='euc-kr')\n",
    "df1\n",
    "df2\n",
    "df3\n",
    "df = pd.concat([df1,df2,df3])  # DataFrame : 합치기\n",
    "df"
   ]
  },
  {
   "cell_type": "code",
   "execution_count": null,
   "metadata": {},
   "outputs": [
    {
     "data": {
      "text/plain": [
       "array([['구로고', 54, 61, 78, 34, 'Javascript'],\n",
       "       ['디지털고', 73, 78, 43, 29, 'C'],\n",
       "       ['디지털고', 84, 93, 83, 15, 'PYTHON'],\n",
       "       ...,\n",
       "       ['구로고', 36, 91, 66, 14, 'PYTHON'],\n",
       "       ['디지털고', 56, 68, 85, 42, nan],\n",
       "       ['디지털고', 76, 85, 91, 83, 'Java']], dtype=object)"
      ]
     },
     "execution_count": 112,
     "metadata": {},
     "output_type": "execute_result"
    }
   ],
   "source": [
    "df = pd.read_excel('students.xlsx',index_col='이름')\n",
    "df.tail(10)"
   ]
  },
  {
   "cell_type": "markdown",
   "metadata": {},
   "source": [
    "데이터확인: describe,info,head,tail,columns,shape,values"
   ]
  },
  {
   "cell_type": "code",
   "execution_count": null,
   "metadata": {},
   "outputs": [],
   "source": [
    "df = pd.read_excel('score.xlsx',index_col='지원번호')\n",
    "df.describe()  # 숫자로 구성된 컬럼의 개수,합계,평균,최소값,최대값\n",
    "# df.info()      # 컬렁의 이름,총대구,타입,null 값 유무\n",
    "df.head()      # 처음 5개\n",
    "df.tail        # 마지막 5개\n",
    "df.values      # 모든 값 출력\n",
    "df.index       # index 값 출력\n",
    "df.shape       # (8,9) - 8행 9열\n",
    "df['키'].max()  # 컬럼 최대값\n",
    "df['키'].min()  # 컬럼 최소값\n",
    "df['키'].sum()  # 합계\n",
    "df['키'].mean()  # 평균\n",
    "df['키'].std()  # \n",
    "df['키'].nlargest()  # 최대값 5개 \n",
    "df['키'].nsmallest()  #  최소값 5개\n",
    "df['학교'].unique()   # 중복제거 리스트 확인\n",
    "df['학교'].nunique()   # 중복제거 개수 확인\n",
    "df['학교'].count()   # 전체개수 확인\n"
   ]
  },
  {
   "cell_type": "markdown",
   "metadata": {},
   "source": [
    "컬럼 데이터 출력"
   ]
  },
  {
   "cell_type": "code",
   "execution_count": null,
   "metadata": {},
   "outputs": [],
   "source": [
    "# 컬럼 데이터 출력\n",
    "df.columns\n",
    "df['이름']\n",
    "df[['이름','키','국어']]\n",
    "df[df.columns[0]]   # 첫번째 컬럼 출력\n",
    "df[df.columns[-1]]  # 마지막 컬럼 출력\n",
    "df[df.columns[[0,3,-1]]]  # 0주소,3주소,마지막주소 컬럼을 가져옴.\n",
    "df['이름'][0:5]     # 컬러의 row값을 가져옴.\n",
    "df[1:3]             # 모든컬럼의 1주소,2주소의 row값을 가져옴.\n",
    "df.iloc[1:3]        # row에서 1주소,2주소를 가져옴."
   ]
  },
  {
   "cell_type": "markdown",
   "metadata": {},
   "source": [
    "출산율2 파일을 가져와서 출력하시오."
   ]
  },
  {
   "cell_type": "code",
   "execution_count": null,
   "metadata": {},
   "outputs": [],
   "source": [
    "df = pd.read_excel('출산율2.xlsx',skiprows=2,nrows=2,index_col=0)\n",
    "df.index.name = '목록'\n",
    "df"
   ]
  },
  {
   "cell_type": "markdown",
   "metadata": {},
   "source": [
    "축반경"
   ]
  },
  {
   "cell_type": "code",
   "execution_count": null,
   "metadata": {},
   "outputs": [],
   "source": [
    "df = df.T"
   ]
  },
  {
   "cell_type": "code",
   "execution_count": null,
   "metadata": {},
   "outputs": [],
   "source": [
    "df.describe()"
   ]
  },
  {
   "cell_type": "code",
   "execution_count": null,
   "metadata": {},
   "outputs": [],
   "source": [
    "df = pd.read_excel('연령별인구현황01.xlsx',skiprows=3,index_col='행정기관',usecols='B,E:Y')\n",
    "df.index\n",
    "df.loc[df.index[0]]  # row 0번째 정보확인\n",
    "df.iloc[0]           # row 0번째 정보확인\n",
    "df.iloc[0] = df.iloc[0].str.replace(\",\",\"\").astype(int)\n",
    "df.iloc[0]"
   ]
  },
  {
   "cell_type": "code",
   "execution_count": null,
   "metadata": {},
   "outputs": [],
   "source": [
    "df = pd.read_excel('연령별인구현황01.xlsx',skiprows=3,nrows=1,index_col='행정기관',usecols='B,E:Y')\n",
    "df\n"
   ]
  },
  {
   "cell_type": "code",
   "execution_count": null,
   "metadata": {},
   "outputs": [],
   "source": [
    "##  0~100세 사이의 가장 인구수가 높은 나이때를 출려하시오.\n",
    "# 1. int타입으로 변경, 2. 축변겨, 3.max()\n",
    "df.rename(index={'전국  ':'전국'},inplace=True)\n",
    "df.index\n",
    "df.loc['전국']"
   ]
  },
  {
   "cell_type": "code",
   "execution_count": null,
   "metadata": {},
   "outputs": [],
   "source": [
    "df.loc['전국'] = df.loc['전국'].str.replace(\",\",\"\") .astype(int)\n",
    "df = df.T\n",
    "df['전국'].max()"
   ]
  },
  {
   "cell_type": "markdown",
   "metadata": {},
   "source": [
    "row : df.loc, df.iloc"
   ]
  },
  {
   "cell_type": "markdown",
   "metadata": {},
   "source": [
    "loc : index값으로 검색"
   ]
  },
  {
   "cell_type": "code",
   "execution_count": null,
   "metadata": {},
   "outputs": [],
   "source": [
    "df = pd.DataFrame(data,index=['1번','2번','3번','4번','5번','6번','7번','8번'])\n",
    "df.index.name = '지원번호'\n",
    "df.loc['1번']          # 1개 row를 가져옴\n",
    "df.loc[['1번','5번']]  # 2개 row를 가져옴\n",
    "df.loc['1번','국어']   # 1번의 row의 국어성적만 가져옴.\n",
    "df.loc[['1번','5번'],['국어','영어']]\n",
    "\n",
    "# 슬라이싱\n",
    "df.loc['1번':'5번','국어':'사회']  ## [row벙위,컬럼범위]"
   ]
  },
  {
   "cell_type": "markdown",
   "metadata": {},
   "source": [
    "* iloc : index번호로 검색"
   ]
  },
  {
   "cell_type": "code",
   "execution_count": null,
   "metadata": {},
   "outputs": [],
   "source": [
    "df.iloc[1]      # 1개 row를 가져옴\n",
    "df.iloc[[0,2]]  # 2개 row를 가져옴\n",
    "df.iloc[[0,2],2]      # 0번째 3번째 학생의 키를 출력\n",
    "df.iloc[[0,2],[3,4]]  # 1번,2번, 학새의 국어,영어\n",
    "# 슬라이싱           \n",
    "df.iloc[1:4]          # 2번,3번,4번 학생 출력\n",
    "df.iloc[1:4,0:3]      # 2번,3번,4번 이름,학교,키 출력"
   ]
  },
  {
   "cell_type": "markdown",
   "metadata": {},
   "source": [
    "데이터 조건 검색"
   ]
  },
  {
   "cell_type": "code",
   "execution_count": null,
   "metadata": {},
   "outputs": [],
   "source": [
    "# 조건식 생성\n",
    "filt = df['키']>=185\n",
    "# 조건식 대입\n",
    "df[~filt] # not에 대한 결과값 출력\n",
    "df[filt]        # columns\n",
    "df.loc[filt]    # row\n",
    "df.loc[filt,['국어','수학']]    # row\n",
    "df.loc[filt,'키']    # row"
   ]
  },
  {
   "cell_type": "markdown",
   "metadata": {},
   "source": [
    "& and 연산자, | or 연산자"
   ]
  },
  {
   "cell_type": "code",
   "execution_count": null,
   "metadata": {},
   "outputs": [],
   "source": [
    "filt = (df['국어']>=70) & (df['키']<190)\n",
    "df[filt]"
   ]
  },
  {
   "cell_type": "markdown",
   "metadata": {},
   "source": [
    "문자열 함수 : startwhithm,contains,replace,lower,upper"
   ]
  },
  {
   "cell_type": "code",
   "execution_count": null,
   "metadata": {},
   "outputs": [],
   "source": [
    "# starwith : 해당값으로 시작되는 단어 검색\n",
    "filt = df['이름'].str.startswith('김')\n",
    "df[filt]\n",
    "\n",
    "# contains : 해당값이 포함되어 있는 단어 검색\n",
    "filt = df['이름'].str.contains('수')\n",
    "df.loc[filt,['이름','학교','키']]\n",
    "\n",
    "# isin() : 포함이 되어 있는지 확인\n",
    "langs = ['python','java']\n",
    "filt = df['SW특기'].isin(langs)\n",
    "df[filt]\n",
    "\n",
    "# lower() : 해당값을 모두 소문자로 변환\n",
    "# isin() : 괄호안에는 리스트 타입만 가능\n",
    "filt = df['SW특기'].str.lower().isin(langs)\n",
    "df[filt]\n",
    "\n",
    "# 포함이 되어 있으면 모두 검색\n",
    "# - nan데이터 처리를 하지 않으면 에러\n",
    "filt = df['SW특기'].str.contains('java',na=False)\n",
    "filt\n",
    "df[filt]\n",
    "\n",
    "# 소문자로 변경후 j가 포함되어 있는 정보 검색\n",
    "df['SW특기'] = df['SW특기'].str.lower()\n"
   ]
  },
  {
   "cell_type": "code",
   "execution_count": null,
   "metadata": {},
   "outputs": [
    {
     "data": {
      "text/html": [
       "<div>\n",
       "<style scoped>\n",
       "    .dataframe tbody tr th:only-of-type {\n",
       "        vertical-align: middle;\n",
       "    }\n",
       "\n",
       "    .dataframe tbody tr th {\n",
       "        vertical-align: top;\n",
       "    }\n",
       "\n",
       "    .dataframe thead th {\n",
       "        text-align: right;\n",
       "    }\n",
       "</style>\n",
       "<table border=\"1\" class=\"dataframe\">\n",
       "  <thead>\n",
       "    <tr style=\"text-align: right;\">\n",
       "      <th></th>\n",
       "      <th>이름</th>\n",
       "      <th>학교</th>\n",
       "      <th>키</th>\n",
       "      <th>국어</th>\n",
       "      <th>영어</th>\n",
       "      <th>수학</th>\n",
       "      <th>과학</th>\n",
       "      <th>사회</th>\n",
       "      <th>SW특기</th>\n",
       "    </tr>\n",
       "    <tr>\n",
       "      <th>지원번호</th>\n",
       "      <th></th>\n",
       "      <th></th>\n",
       "      <th></th>\n",
       "      <th></th>\n",
       "      <th></th>\n",
       "      <th></th>\n",
       "      <th></th>\n",
       "      <th></th>\n",
       "      <th></th>\n",
       "    </tr>\n",
       "  </thead>\n",
       "  <tbody>\n",
       "    <tr>\n",
       "      <th>2번</th>\n",
       "      <td>강태원</td>\n",
       "      <td>구로고</td>\n",
       "      <td>184</td>\n",
       "      <td>40</td>\n",
       "      <td>35</td>\n",
       "      <td>50</td>\n",
       "      <td>55</td>\n",
       "      <td>25</td>\n",
       "      <td>Java</td>\n",
       "    </tr>\n",
       "    <tr>\n",
       "      <th>3번</th>\n",
       "      <td>강호림</td>\n",
       "      <td>구로고</td>\n",
       "      <td>168</td>\n",
       "      <td>80</td>\n",
       "      <td>75</td>\n",
       "      <td>70</td>\n",
       "      <td>80</td>\n",
       "      <td>75</td>\n",
       "      <td>Javascript</td>\n",
       "    </tr>\n",
       "  </tbody>\n",
       "</table>\n",
       "</div>"
      ],
      "text/plain": [
       "       이름   학교    키  국어  영어  수학  과학  사회        SW특기\n",
       "지원번호                                               \n",
       "2번    강태원  구로고  184  40  35  50  55  25        Java\n",
       "3번    강호림  구로고  168  80  75  70  80  75  Javascript"
      ]
     },
     "execution_count": 261,
     "metadata": {},
     "output_type": "execute_result"
    }
   ],
   "source": [
    "### 소문자 j 가 포함되어 있는 정보 검색\n",
    "filt = df['SW특기'].str.lower().str.contains('j',na=False)\n",
    "df[filt]"
   ]
  },
  {
   "cell_type": "code",
   "execution_count": null,
   "metadata": {},
   "outputs": [],
   "source": [
    "filt = df['SW특기'].str.lower().isin(['java','python'])\n",
    "filt\n",
    "df[filt]"
   ]
  },
  {
   "cell_type": "markdown",
   "metadata": {},
   "source": [
    "컬럼수정 방법"
   ]
  },
  {
   "cell_type": "code",
   "execution_count": null,
   "metadata": {},
   "outputs": [],
   "source": [
    "### 해당컬럼에 값을 넣으면 컬렁의 값이 수정됨\n",
    "df['SW특기'] = df['SW특기'].str.lower()"
   ]
  },
  {
   "cell_type": "markdown",
   "metadata": {},
   "source": [
    "null값 처리 : fillna - null값 채우기,dropna - null값 삭제하기"
   ]
  },
  {
   "cell_type": "code",
   "execution_count": null,
   "metadata": {},
   "outputs": [],
   "source": [
    "import numpy as np\n",
    "\n",
    "# df['학교'] = np.nan  # 학교컬럼에 NaN데이터 입력\n",
    "\n",
    "# fillna : 모든컬럼의 NaN데이터를 모두 변경, inplace=True해야 적용이 됨\n",
    "df.fillna('데이터없음',inplace=True)\n",
    "df"
   ]
  },
  {
   "cell_type": "code",
   "execution_count": 273,
   "metadata": {},
   "outputs": [],
   "source": [
    "df = pd.read_excel('score.xlsx',index_col='지원번호')"
   ]
  },
  {
   "cell_type": "code",
   "execution_count": null,
   "metadata": {},
   "outputs": [],
   "source": [
    "df.fillna(0)"
   ]
  },
  {
   "cell_type": "code",
   "execution_count": null,
   "metadata": {},
   "outputs": [],
   "source": [
    "## dropna\n",
    "# axis 축방향으로 삭제 : index(row) , columns(columns방향)\n",
    "# how : any(1개라도 있으면 모두row나columns삭제), all (모두 nan데이터일때 삭제)\n",
    "# axis = 'index','columns', how = 'any','all'\n",
    "df.dropna()    # index, any 기본 default - 해당되는 index(row)를 삭제\n",
    "df['학교'] = np.nan\n",
    "\n",
    "df.dropna(axis='index',how='all')  # 모두 nan row가 없어서 삭제가 안됨.\n",
    "df.dropna(axis='columns',how='all')  # 학교컬럼이 모두 nan이기에 삭제됨\n",
    "df.dropna(axis='index',how='any')  # 학교컬럼이 모두 nan 이기에 모든 row 삭제\n",
    "df.dropna(axis='columns',how='any')  # 학교,SW특기 컬럼에 nan있기에 2개 컬럼삭제"
   ]
  },
  {
   "cell_type": "markdown",
   "metadata": {},
   "source": [
    "* 데이터 정렬 : sort_values\\\n",
    "* index정렬 : sort_index"
   ]
  },
  {
   "cell_type": "code",
   "execution_count": 5,
   "metadata": {},
   "outputs": [],
   "source": [
    "df = pd.read_excel('score.xlsx',index_col='지원번호')"
   ]
  },
  {
   "cell_type": "code",
   "execution_count": null,
   "metadata": {},
   "outputs": [],
   "source": [
    "# df.sort_index(ascending=False)\n",
    "df.sort_values('키')\n",
    "df.sort_values('키',ascending=False)\n",
    "df.sort_values('이름')\n",
    "df.sort_values('국어')\n",
    "\n",
    "### 2개 컬럼으로 정렬\n",
    "df.sort_values(['국어','영어'],ascending=[True,False])"
   ]
  }
 ],
 "metadata": {
  "kernelspec": {
   "display_name": "Python 3",
   "language": "python",
   "name": "python3"
  },
  "language_info": {
   "codemirror_mode": {
    "name": "ipython",
    "version": 3
   },
   "file_extension": ".py",
   "mimetype": "text/x-python",
   "name": "python",
   "nbconvert_exporter": "python",
   "pygments_lexer": "ipython3",
   "version": "3.12.6"
  }
 },
 "nbformat": 4,
 "nbformat_minor": 2
}
